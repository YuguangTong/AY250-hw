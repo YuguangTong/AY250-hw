{
 "cells": [
  {
   "cell_type": "markdown",
   "metadata": {},
   "source": [
    "# #0 Journal paper critique"
   ]
  },
  {
   "cell_type": "code",
   "execution_count": null,
   "metadata": {
    "collapsed": true
   },
   "outputs": [],
   "source": []
  },
  {
   "cell_type": "markdown",
   "metadata": {},
   "source": [
    "# #1 Reproduce figure with $\\textrm{Bokeh}$"
   ]
  },
  {
   "cell_type": "code",
   "execution_count": null,
   "metadata": {
    "collapsed": true
   },
   "outputs": [],
   "source": []
  },
  {
   "cell_type": "markdown",
   "metadata": {},
   "source": [
    "# #2 Reproduce figure in $\\textrm{matplotlib}$"
   ]
  },
  {
   "cell_type": "code",
   "execution_count": null,
   "metadata": {
    "collapsed": true
   },
   "outputs": [],
   "source": [
    "import numpy as np\n",
    "import matplotlib.pyplot as plt\n",
    "%matplotlib inline"
   ]
  },
  {
   "cell_type": "markdown",
   "metadata": {},
   "source": [
    "load data"
   ]
  },
  {
   "cell_type": "code",
   "execution_count": null,
   "metadata": {
    "collapsed": true
   },
   "outputs": [],
   "source": [
    "data_dir = 'hw_2_data/'"
   ]
  },
  {
   "cell_type": "code",
   "execution_count": null,
   "metadata": {
    "collapsed": false
   },
   "outputs": [],
   "source": [
    "ny_temp = np.loadtxt(data_dir + 'ny_temps.txt', skiprows=1)\n",
    "google_stock = np.loadtxt(data_dir + 'google_data.txt', skiprows=1)\n",
    "yahoo_stock = np.loadtxt(data_dir + 'yahoo_data.txt', skiprows=1)"
   ]
  },
  {
   "cell_type": "code",
   "execution_count": null,
   "metadata": {
    "collapsed": true
   },
   "outputs": [],
   "source": [
    "google_t, google_v = google_stock[:, 0], google_stock[:, 1]\n",
    "yahoo_t, yahoo_v = yahoo_stock[:, 0], yahoo_stock[:, 1]\n",
    "ny_t, ny_v = ny_temp[:, 0], ny_temp[:, 1]"
   ]
  },
  {
   "cell_type": "code",
   "execution_count": null,
   "metadata": {
    "collapsed": true
   },
   "outputs": [],
   "source": [
    "from matplotlib.ticker import MultipleLocator"
   ]
  },
  {
   "cell_type": "code",
   "execution_count": null,
   "metadata": {
    "collapsed": false
   },
   "outputs": [],
   "source": [
    "fs=16\n",
    "fig, ax1 = plt.subplots(figsize=[8,6])\n",
    "\n",
    "lns1 = ax1.plot(yahoo_t, yahoo_v, 'purple', label='Yahoo! Stock Value')\n",
    "lns2 = ax1.plot(google_t, google_v, 'b-', label='Google Stock Value')\n",
    "ax1.set_xlabel('Date (MJD)', fontsize=fs)\n",
    "ax1.set_ylabel('Value (Dollars)', fontsize=fs)\n",
    "\n",
    "ax1.set_ylim([-20, 780])\n",
    "ax1.set_xlim([49000, 55000])\n",
    "\n",
    "# add minor ticks\n",
    "ax1.xaxis.set_minor_locator(MultipleLocator(200))\n",
    "ax1.yaxis.set_minor_locator(MultipleLocator(20))\n",
    "\n",
    "# set font for title\n",
    "font = {'family': 'sans-serif','color':  'black', \n",
    "        'weight': 'bold','size': fs}\n",
    "ax1.set_title('New York Temperature, Google and Yahoo!', fontdict=font)\n",
    "\n",
    "# turn off major and minor ticks from upper x axis\n",
    "ax1.tick_params(axis='x', which='both', top='off')        \n",
    "\n",
    "ax2 = ax1.twinx()\n",
    "lns3 = ax2.plot(ny_t, ny_v, 'r--', label='NY Mon. High Temp')\n",
    "ax2.set_ylabel('Temperature $(^\\circ \\mathrm{F})$', fontsize=fs)\n",
    "ax2.set_ylim([-150, 100])\n",
    "ax2.yaxis.set_minor_locator(MultipleLocator(10))\n",
    "\n",
    "# add legend\n",
    "lns = lns1+lns2+lns3\n",
    "labs = [l.get_label() for l in lns]\n",
    "ax1.legend(lns, labs, loc='center left', frameon=False)\n",
    "\n",
    "plt.show()"
   ]
  },
  {
   "cell_type": "markdown",
   "metadata": {
    "collapsed": true
   },
   "source": [
    "# #3 Generic \"Brushing\" code"
   ]
  },
  {
   "cell_type": "code",
   "execution_count": 1,
   "metadata": {
    "collapsed": true
   },
   "outputs": [],
   "source": [
    "import numpy as np\n",
    "import matplotlib.pyplot as plt\n",
    "from matplotlib.patches import Rectangle\n",
    "# %matplotlib inline"
   ]
  },
  {
   "cell_type": "markdown",
   "metadata": {},
   "source": [
    "Read dataset with many rows and multiple columns (variables/parameters)."
   ]
  },
  {
   "cell_type": "code",
   "execution_count": 2,
   "metadata": {
    "collapsed": true
   },
   "outputs": [],
   "source": [
    "data_dir = 'hw_2_data/'\n",
    "filename = data_dir + 'flowers.csv'"
   ]
  },
  {
   "cell_type": "code",
   "execution_count": 3,
   "metadata": {
    "collapsed": false
   },
   "outputs": [
    {
     "name": "stdout",
     "output_type": "stream",
     "text": [
      "6.7,3.0,5.2,2.3,virginica\r\n",
      "6.3,2.5,5.0,1.9,virginica\r\n",
      "6.5,3.0,5.2,2.0,virginica\r\n",
      "6.2,3.4,5.4,2.3,virginica\r\n",
      "5.9,3.0,5.1,1.8,virginica\r\n"
     ]
    }
   ],
   "source": [
    "!tail -n 5 hw_2_data/flowers.csv"
   ]
  },
  {
   "cell_type": "code",
   "execution_count": 4,
   "metadata": {
    "collapsed": false
   },
   "outputs": [],
   "source": [
    "# datatype\n",
    "dt = [('sepalLength', 'f4'), ('sepalWidth', 'f4'),\n",
    "     ('petalLength', 'f4'), ('petalWidth', 'f4'), ('species', 'S10')]\n",
    "\n",
    "names = ['sepalLength', 'sepalWidth', 'petalLength', 'petalWidth', 'species']\n",
    "formats = ['f4', 'f4', 'f4', 'f4', 'S10']\n",
    "dt = {'names': names, 'formats':formats}\n",
    "# dataset\n",
    "ds = np.loadtxt(filename, delimiter=',', skiprows=1, dtype=dt)"
   ]
  },
  {
   "cell_type": "markdown",
   "metadata": {},
   "source": [
    "Create subplot "
   ]
  },
  {
   "cell_type": "code",
   "execution_count": 7,
   "metadata": {
    "collapsed": false
   },
   "outputs": [],
   "source": [
    "# define colors for different species\n",
    "blue = [0, 0, 1, 0.75]\n",
    "red = [1, 0, 0, 0.75]\n",
    "green = [0, 0.5, 0, 0.75]\n",
    "grey = [0.75, 0.75, 0.75, 0.5]\n",
    "colorTable = {b'setosa': red, b'versicolor': blue, b'virginica': green}\n",
    "\n",
    "class Brushing(object):\n",
    " \n",
    "    \n",
    "    def __init__(self):\n",
    "        self.m = 2\n",
    "        self.n = 2\n",
    "        fig, axes = plt.subplots(self.m, self.n, sharey='row', \n",
    "                                 sharex='col', figsize=[8,8])\n",
    "        self.axes = np.array(fig.axes).reshape(self.m, self.n)\n",
    "\n",
    "        self.scatters = []\n",
    "        for i, var_i in enumerate(names[:self.m]):\n",
    "            for j, var_j in enumerate(names[:self.n]):\n",
    "                data_i = ds[var_i]\n",
    "                data_j = ds[var_j]\n",
    "                ax = axes[i, j]\n",
    "                colors = np.array([colorTable[s] for s in ds['species']])\n",
    "                sc = ax.scatter(data_j, data_i, c=colors)\n",
    "                self.scatters += [sc]\n",
    "                sc.set_edgecolors(colors)\n",
    "                if i == j:\n",
    "                    ax.text(0.1, 0.8, var_i, transform=ax.transAxes)\n",
    "        self.scatters = np.array(self.scatters).reshape(self.m, self.n)\n",
    "        self.rect = None\n",
    "        self.fig = fig\n",
    "        \n",
    "        self.x0 = None\n",
    "        self.y0 = None\n",
    "        self.x1 = None\n",
    "        self.y1 = None\n",
    "        \n",
    "        self.ax = None\n",
    "        self.ax_ij = None\n",
    "        self.press = None\n",
    "        \n",
    "        self.fig.canvas.mpl_connect('button_press_event', self.on_press)\n",
    "        self.fig.canvas.mpl_connect('button_release_event', self.on_release)\n",
    "        self.fig.canvas.mpl_connect('motion_notify_event', self.on_motion)\n",
    "\n",
    "    def selected(self):\n",
    "        \"\"\"\n",
    "        return boolean array for indices of the selected data points\n",
    "        \"\"\"\n",
    "        i, j = self.ax_ij\n",
    "        data_i = ds[names[i]]\n",
    "        data_j = ds[names[j]]\n",
    "        xmin = min(self.x0, self.x1)\n",
    "        xmax = max(self.x0, self.x1)\n",
    "        ymin = min(self.y0, self.y1)\n",
    "        ymax = max(self.y0, self.y1)\n",
    "        \n",
    "        if xmin == xmax and ymin == ymax:\n",
    "            selected=np.empty(len(data_i), dtype=bool)\n",
    "            selected.fill(True)\n",
    "            return selected\n",
    "        return (data_j > xmin) & (data_j < xmax) & \\\n",
    "            (data_i > ymin) & (data_i < ymax)\n",
    "    \n",
    "    \n",
    "    def on_press(self, event):\n",
    "#         print('press')\n",
    "        if not self.rect:\n",
    "            self.rect = Rectangle((0,0), 0, 0, facecolor='grey', alpha = 0.2)\n",
    "            self.ax = event.inaxes\n",
    "            self.ax.add_patch(self.rect)\n",
    "            self.ax_ij = self.which_axis()\n",
    "        if self.ax != event.inaxes:\n",
    "            self.ax = event.inaxes\n",
    "            self.rect.set_visible(False)\n",
    "            del self.rect\n",
    "            self.rect = Rectangle((0,0), 0, 0, facecolor='grey', alpha = 0.2)\n",
    "            self.ax.add_patch(self.rect)\n",
    "            self.ax_ij = self.which_axis()\n",
    "        else:\n",
    "            self.rect.set_width(0)\n",
    "            self.rect.set_height(0)\n",
    "\n",
    "        self.press = True\n",
    "        self.x0 = event.xdata\n",
    "        self.y0 = event.ydata\n",
    "\n",
    "    def on_release(self, event):\n",
    "        \"\"\"\n",
    "        \"\"\"\n",
    "\n",
    "        self.press = None\n",
    "        if event.inaxes != self.rect.axes: return\n",
    "        self.x1 = event.xdata\n",
    "        self.y1 = event.ydata\n",
    "        self.rect.set_width(self.x1 - self.x0)\n",
    "        self.rect.set_height(self.y1 - self.y0)\n",
    "        self.rect.set_xy((self.x0, self.y0))\n",
    "        self.set_color()\n",
    "                \n",
    "        self.fig.canvas.draw()\n",
    "    \n",
    "    def on_motion(self, event):\n",
    "        if self.press is None: return\n",
    "        if event.inaxes != self.rect.axes: return\n",
    "        \n",
    "        self.x1 = event.xdata\n",
    "        self.y1 = event.ydata\n",
    "        self.rect.set_width(self.x1 - self.x0)\n",
    "        self.rect.set_height(self.y1 - self.y0)\n",
    "        self.rect.set_xy((self.x0, self.y0))\n",
    "        \n",
    "        self.set_color()\n",
    "\n",
    "        self.fig.canvas.draw()\n",
    "    \n",
    "    def which_axis(self):\n",
    "        \"\"\"\n",
    "        find the (i, j) index of the subplot selected by mouse event\n",
    "        \"\"\"\n",
    "        for i in range(self.m):\n",
    "            for j in range(self.n):\n",
    "                if self.axes[i,j] is self.ax:\n",
    "                    return (i, j)\n",
    "        return \n",
    "\n",
    "\n",
    "    def set_color(self):\n",
    "        \"\"\"\n",
    "        set color of scattered plots\n",
    "        - selected data points keep the colors\n",
    "        - other data points are shaded in grey\n",
    "        \"\"\"\n",
    "        selected = self.selected()\n",
    "        for i, var_i in enumerate(names[:self.m]):\n",
    "            for j, var_j in enumerate(names[:self.n]):\n",
    "                colors = np.array([colorTable[s] for s in ds['species']])\n",
    "                colors[~selected, :] = grey\n",
    "                sc = self.scatters[i,j]\n",
    "                sc.set_facecolors(colors)\n",
    "                sc.set_edgecolors(colors)\n",
    "        return"
   ]
  },
  {
   "cell_type": "code",
   "execution_count": 8,
   "metadata": {
    "collapsed": false
   },
   "outputs": [],
   "source": [
    "# import ipywidgets as widgets\n",
    "# %matplotlib notebook\n",
    "# w = widgets.HTML()\n",
    "\n",
    "\n",
    "a = Brushing()\n",
    "plt.show()"
   ]
  },
  {
   "cell_type": "code",
   "execution_count": null,
   "metadata": {
    "collapsed": true
   },
   "outputs": [],
   "source": []
  }
 ],
 "metadata": {
  "kernelspec": {
   "display_name": "Python 3",
   "language": "python",
   "name": "python3"
  },
  "language_info": {
   "codemirror_mode": {
    "name": "ipython",
    "version": 3
   },
   "file_extension": ".py",
   "mimetype": "text/x-python",
   "name": "python",
   "nbconvert_exporter": "python",
   "pygments_lexer": "ipython3",
   "version": "3.5.1"
  },
  "widgets": {
   "state": {
    "026be7956c92412c9c3d85d31a78174a": {
     "views": []
    },
    "06fea5f38f734a97a1757ea1c5ecc0b0": {
     "views": []
    },
    "10c8ab6eadc14414848ceb89318aad21": {
     "views": []
    },
    "15bf71da87154143b2da476e0515cd06": {
     "views": []
    },
    "1c131cc49e4d463587a3008aa78bfbef": {
     "views": []
    },
    "27642e6558354fd597bd85425750ae46": {
     "views": []
    },
    "2f2728f13e384c639c24e64421604e89": {
     "views": []
    },
    "36d4192de248492091956aaf641fe403": {
     "views": []
    },
    "3705b1733a404a32b4a4e7414a9eb6d8": {
     "views": []
    },
    "4f3b44405d6448c5ac886bce63457d17": {
     "views": []
    },
    "54681d16842b460ead5197cbff49039c": {
     "views": []
    },
    "5d3e707d8c1842639367f96de24e4c95": {
     "views": []
    },
    "693e94ba1ae0472ab0514a36ddde106c": {
     "views": []
    },
    "6aecc193671142778afded0225b50103": {
     "views": []
    },
    "817ec81d259048aaae4ba7421b24826d": {
     "views": []
    },
    "84462489ac3a42f68c74a94c1ee6db78": {
     "views": []
    },
    "84d85a0814214b97bda7c7aec567fd06": {
     "views": []
    },
    "892cbdedbb3d4dcabb991403b0238290": {
     "views": []
    },
    "8f9b8c4de1154a5f95a79026b9b95266": {
     "views": []
    },
    "9e6622ebac1946c0915814c75aa2d4ca": {
     "views": []
    },
    "b59aa4fe4d0b41b2bbea39a62a37230a": {
     "views": []
    },
    "bf2ae7ed0efb4a20afec49d08e57940c": {
     "views": []
    },
    "c4c469d30ca642f7809cbf872e30fdf9": {
     "views": []
    },
    "c8f123a348fc4bb4a112aabbe4050f3b": {
     "views": []
    },
    "cb5861571518414193919c410519e80f": {
     "views": []
    },
    "cbfb16fab5914ddfaf9871e7170f2e7b": {
     "views": []
    },
    "ceab2c1ec17f40d2bcc3e66aba2d1b90": {
     "views": []
    },
    "d143bf5312324ea495e59a520e411f8a": {
     "views": []
    },
    "d2871c0828454800b3fd587bd5e2bdcc": {
     "views": []
    },
    "d396b4cf7da54df89aa87a4c71a92649": {
     "views": []
    },
    "d62ee11542a9458db28bc2eb866900e5": {
     "views": []
    },
    "d8e7a02f02bc4bbb952019239835ced7": {
     "views": []
    },
    "dd0bf682e15d49119ff4593680b24bd2": {
     "views": []
    },
    "e1befbe8a06b48aebb5f37efc7fd6bde": {
     "views": []
    },
    "e84adb75f67441d3a38b941468e9d7b4": {
     "views": []
    },
    "eace59d2cb304d4c97c7a862c66cf840": {
     "views": []
    }
   },
   "version": "1.1.2"
  }
 },
 "nbformat": 4,
 "nbformat_minor": 0
}
