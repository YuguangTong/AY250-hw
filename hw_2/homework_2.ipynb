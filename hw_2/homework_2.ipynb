{
 "cells": [
  {
   "cell_type": "markdown",
   "metadata": {},
   "source": [
    "# #0 Journal paper critique"
   ]
  },
  {
   "cell_type": "markdown",
   "metadata": {
    "collapsed": true
   },
   "source": [
    "<center>\n",
    "<img src=hw_2_data/bale_2005.png width=\"400\"></img>\n",
    "<img src=hw_2_data/bale_2005_caption.png width=\"400\"></img>\n",
    "</center>"
   ]
  },
  {
   "cell_type": "markdown",
   "metadata": {},
   "source": [
    "The figure trying to three messages:\n",
    "- $B$ power spectral density shows a spectral break at ion gyroradius scale, indicating transition in physical processes. \n",
    "- $E$ power spectral density agrees with $B$ in the ion inertial length scale but begin to diverge from $B$ in smaller scales (larger $k$)\n",
    "- Transition of non-dispersive shear Alfven wave to dispersive kinetic Alfven wave (KAW) happens at the same length scale as the $B$ spectrum breaks, suggesting possible role of KAW in this transition length scale."
   ]
  },
  {
   "cell_type": "markdown",
   "metadata": {},
   "source": [
    "good side:\n",
    "- clean images, appropriate ammount of annotations\n",
    "- high resolution\n",
    "- use of color shade to emphasize different ranges\n",
    "\n",
    "Room for improvement:\n",
    "- can use bigger fontsize for labels\n",
    "- can have longer axis ticks\n",
    "- reconsider the area of three subplots. (b) and (c) can be slightly bigger"
   ]
  },
  {
   "cell_type": "markdown",
   "metadata": {},
   "source": [
    "# #1 Reproduce figure with $\\textrm{Bokeh}$"
   ]
  },
  {
   "cell_type": "code",
   "execution_count": null,
   "metadata": {
    "collapsed": false
   },
   "outputs": [],
   "source": [
    "from bokeh.plotting import figure, output_notebook, show\n",
    "from bokeh.models import HoverTool\n",
    "from bokeh.layouts import row\n",
    "import numpy as np\n",
    "output_notebook()"
   ]
  },
  {
   "cell_type": "markdown",
   "metadata": {},
   "source": [
    "load data"
   ]
  },
  {
   "cell_type": "code",
   "execution_count": null,
   "metadata": {
    "collapsed": false
   },
   "outputs": [],
   "source": [
    "# data dir\n",
    "\n",
    "data_dir = 'hw_2_data/'\n",
    "efficiency_file = data_dir + 'Efficiency.txt'\n",
    "purity_file = data_dir + 'Purity.txt'\n",
    "\n",
    "eff_data = np.genfromtxt(fname=efficiency_file, skip_header=1)\n",
    "purity_data = np.genfromtxt(fname=purity_file, skip_header=1)\n",
    "\n",
    "eff_followed = eff_data[:, 0]\n",
    "eff_observed = eff_data[:, 1]\n",
    "eff_uncertainty = eff_data[:, 2]\n",
    "\n",
    "purity_followed = purity_data[:, 0]\n",
    "purity_observed = purity_data[:, 1]\n",
    "purity_uncertainty = purity_data[:, 2]"
   ]
  },
  {
   "cell_type": "code",
   "execution_count": null,
   "metadata": {
    "collapsed": false
   },
   "outputs": [],
   "source": [
    "TOOLS = \"pan,wheel_zoom,box_zoom,reset,save,box_select, crosshair\"\n",
    "p1 = figure(tools = TOOLS, \n",
    "           width = 300, height=300, \n",
    "           x_axis_label='Fraction of GRBs followed up', \n",
    "           y_axis_label='Fraction of high (Z>4) GRBs observed',\n",
    "          title='Efficieny')\n",
    "p1.line(eff_followed, eff_observed, legend=\"observed\")\n",
    "p1.line([0, 1], [0, 1], legend=\"random guess\", line_dash='dashed')\n",
    "\n",
    "# use patch to plot upper/lower bound\n",
    "band_x = np.append(eff_followed, eff_followed[::-1])\n",
    "lowerband = eff_observed + eff_uncertainty\n",
    "upperband = eff_observed - eff_uncertainty\n",
    "band_y = np.append(lowerband, upperband[::-1])\n",
    "p1.patch(band_x, band_y, color='#7570B3', fill_alpha=0.2, line_color=None)\n",
    "p1.legend.location = \"bottom_right\"\n",
    "\n",
    "p2 = figure(tools = TOOLS, \n",
    "           width = 300, height=300,\n",
    "            x_range=p1.x_range, y_range=p1.y_range,\n",
    "           x_axis_label='Fraction of GRBs followed up',\n",
    "            y_axis_label='Fraction of high (Z>4) GRBs observed',\n",
    "          title='Efficieny')\n",
    "p2.line(purity_followed, purity_observed, legend=\"observed\")\n",
    "guess_2 = purity_observed[-1]\n",
    "p2.line([0, 1], [guess_2, guess_2], legend=\"random guess\", line_dash='dashed')\n",
    "\n",
    "# use patch to plot upper/lower bound\n",
    "band_x_2 = np.append(purity_followed, purity_followed[::-1])\n",
    "lowerband_2 = purity_observed + purity_uncertainty\n",
    "upperband_2 = purity_observed - purity_uncertainty\n",
    "band_y_2 = np.append(lowerband_2, upperband_2[::-1])\n",
    "p2.patch(band_x_2, band_y_2, color='#7570B3', fill_alpha=0.2, line_color=None)\n",
    "p2.legend.location = \"top_right\"\n",
    "\n",
    "r = row([p1, p2])\n",
    "show(r)"
   ]
  },
  {
   "cell_type": "markdown",
   "metadata": {},
   "source": [
    "# #2 Reproduce figure in $\\textrm{matplotlib}$"
   ]
  },
  {
   "cell_type": "code",
   "execution_count": null,
   "metadata": {
    "collapsed": true
   },
   "outputs": [],
   "source": [
    "import numpy as np\n",
    "import matplotlib.pyplot as plt\n",
    "%matplotlib inline"
   ]
  },
  {
   "cell_type": "markdown",
   "metadata": {},
   "source": [
    "load data"
   ]
  },
  {
   "cell_type": "code",
   "execution_count": null,
   "metadata": {
    "collapsed": true
   },
   "outputs": [],
   "source": [
    "data_dir = 'hw_2_data/'"
   ]
  },
  {
   "cell_type": "code",
   "execution_count": null,
   "metadata": {
    "collapsed": false
   },
   "outputs": [],
   "source": [
    "ny_temp = np.loadtxt(data_dir + 'ny_temps.txt', skiprows=1)\n",
    "google_stock = np.loadtxt(data_dir + 'google_data.txt', skiprows=1)\n",
    "yahoo_stock = np.loadtxt(data_dir + 'yahoo_data.txt', skiprows=1)"
   ]
  },
  {
   "cell_type": "code",
   "execution_count": null,
   "metadata": {
    "collapsed": true
   },
   "outputs": [],
   "source": [
    "google_t, google_v = google_stock[:, 0], google_stock[:, 1]\n",
    "yahoo_t, yahoo_v = yahoo_stock[:, 0], yahoo_stock[:, 1]\n",
    "ny_t, ny_v = ny_temp[:, 0], ny_temp[:, 1]"
   ]
  },
  {
   "cell_type": "code",
   "execution_count": null,
   "metadata": {
    "collapsed": true
   },
   "outputs": [],
   "source": [
    "from matplotlib.ticker import MultipleLocator"
   ]
  },
  {
   "cell_type": "code",
   "execution_count": null,
   "metadata": {
    "collapsed": false
   },
   "outputs": [],
   "source": [
    "fs=16\n",
    "fig, ax1 = plt.subplots(figsize=[8,6])\n",
    "\n",
    "lns1 = ax1.plot(yahoo_t, yahoo_v, 'purple', label='Yahoo! Stock Value')\n",
    "lns2 = ax1.plot(google_t, google_v, 'b-', label='Google Stock Value')\n",
    "ax1.set_xlabel('Date (MJD)', fontsize=fs)\n",
    "ax1.set_ylabel('Value (Dollars)', fontsize=fs)\n",
    "\n",
    "ax1.set_ylim([-20, 780])\n",
    "ax1.set_xlim([49000, 55000])\n",
    "\n",
    "# add minor ticks\n",
    "ax1.xaxis.set_minor_locator(MultipleLocator(200))\n",
    "ax1.yaxis.set_minor_locator(MultipleLocator(20))\n",
    "\n",
    "# set font for title\n",
    "font = {'family': 'sans-serif','color':  'black', \n",
    "        'weight': 'bold','size': fs}\n",
    "ax1.set_title('New York Temperature, Google and Yahoo!', fontdict=font)\n",
    "\n",
    "# turn off major and minor ticks from upper x axis\n",
    "ax1.tick_params(axis='x', which='both', top='off')        \n",
    "\n",
    "ax2 = ax1.twinx()\n",
    "lns3 = ax2.plot(ny_t, ny_v, 'r--', label='NY Mon. High Temp')\n",
    "ax2.set_ylabel('Temperature $(^\\circ \\mathrm{F})$', fontsize=fs)\n",
    "ax2.set_ylim([-150, 100])\n",
    "ax2.yaxis.set_minor_locator(MultipleLocator(10))\n",
    "\n",
    "# add legend\n",
    "lns = lns1+lns2+lns3\n",
    "labs = [l.get_label() for l in lns]\n",
    "ax1.legend(lns, labs, loc='center left', frameon=False)\n",
    "\n",
    "plt.show()"
   ]
  },
  {
   "cell_type": "markdown",
   "metadata": {
    "collapsed": true
   },
   "source": [
    "# #3 Generic \"Brushing\" code -- by matplotlib"
   ]
  },
  {
   "cell_type": "code",
   "execution_count": null,
   "metadata": {
    "collapsed": true
   },
   "outputs": [],
   "source": [
    "import numpy as np\n",
    "import matplotlib.pyplot as plt\n",
    "from matplotlib.patches import Rectangle\n",
    "# %matplotlib inline"
   ]
  },
  {
   "cell_type": "markdown",
   "metadata": {},
   "source": [
    "Read dataset with many rows and multiple columns (variables/parameters)."
   ]
  },
  {
   "cell_type": "code",
   "execution_count": null,
   "metadata": {
    "collapsed": true
   },
   "outputs": [],
   "source": [
    "data_dir = 'hw_2_data/'\n",
    "filename = data_dir + 'flowers.csv'"
   ]
  },
  {
   "cell_type": "code",
   "execution_count": null,
   "metadata": {
    "collapsed": false
   },
   "outputs": [],
   "source": [
    "!tail -n 5 hw_2_data/flowers.csv"
   ]
  },
  {
   "cell_type": "code",
   "execution_count": null,
   "metadata": {
    "collapsed": false
   },
   "outputs": [],
   "source": [
    "# datatype\n",
    "dt = [('sepalLength', 'f4'), ('sepalWidth', 'f4'),\n",
    "     ('petalLength', 'f4'), ('petalWidth', 'f4'), ('species', 'S10')]\n",
    "\n",
    "names = ['sepalLength', 'sepalWidth', 'petalLength', 'petalWidth', 'species']\n",
    "formats = ['f4', 'f4', 'f4', 'f4', 'S10']\n",
    "dt = {'names': names, 'formats':formats}\n",
    "# dataset\n",
    "ds = np.loadtxt(filename, delimiter=',', skiprows=1, dtype=dt)"
   ]
  },
  {
   "cell_type": "markdown",
   "metadata": {},
   "source": [
    "data brushing"
   ]
  },
  {
   "cell_type": "code",
   "execution_count": null,
   "metadata": {
    "collapsed": false
   },
   "outputs": [],
   "source": [
    "# define colors for different species\n",
    "blue = [0, 0, 1, 0.75]\n",
    "red = [1, 0, 0, 0.75]\n",
    "green = [0, 0.5, 0, 0.75]\n",
    "grey = [0.75, 0.75, 0.75, 0.5]\n",
    "colorTable = {b'setosa': red, b'versicolor': blue, b'virginica': green}\n",
    "\n",
    "class Brushing(object):\n",
    " \n",
    "    \n",
    "    def __init__(self):\n",
    "        \"\"\"\n",
    "        Constructor of Brushing object\n",
    "        - make panel plots\n",
    "        - implementation requires that m, n >= 2\n",
    "        - set default values of figure, axes handle\n",
    "        - connect figure to press, move and release events\n",
    "        \"\"\"\n",
    "        self.m = 4\n",
    "        self.n = 4\n",
    "        fig, axes = plt.subplots(self.m, self.n, sharey='row', \n",
    "                                 sharex='col', figsize=[10, 10])\n",
    "        self.axes = np.array(fig.axes).reshape(self.m, self.n)\n",
    "\n",
    "        self.scatters = []\n",
    "        for i, var_i in enumerate(names[:self.m]):\n",
    "            for j, var_j in enumerate(names[:self.n]):\n",
    "                data_i = ds[var_i]\n",
    "                data_j = ds[var_j]\n",
    "                ax = axes[i, j]\n",
    "                colors = np.array([colorTable[s] for s in ds['species']])\n",
    "                sc = ax.scatter(data_j, data_i, c=colors)\n",
    "                self.scatters += [sc]\n",
    "                sc.set_edgecolors(colors)\n",
    "                if i == j:\n",
    "                    ax.text(0.1, 0.8, var_i, transform=ax.transAxes)\n",
    "        self.scatters = np.array(self.scatters).reshape(self.m, self.n)\n",
    "        self.rect = None\n",
    "        self.fig = fig\n",
    "        \n",
    "        self.x0 = None\n",
    "        self.y0 = None\n",
    "        self.x1 = None\n",
    "        self.y1 = None\n",
    "        \n",
    "        self.ax = None\n",
    "        self.ax_ij = None\n",
    "        self.press = None\n",
    "        \n",
    "        self.fig.canvas.mpl_connect('button_press_event', self.on_press)\n",
    "        self.fig.canvas.mpl_connect('button_release_event', self.on_release)\n",
    "        self.fig.canvas.mpl_connect('motion_notify_event', self.on_motion)\n",
    "\n",
    "    def selected(self):\n",
    "        \"\"\"\n",
    "        return boolean array for indices of the selected data points\n",
    "        \"\"\"\n",
    "        i, j = self.ax_ij\n",
    "        data_i = ds[names[i]]\n",
    "        data_j = ds[names[j]]\n",
    "        xmin = min(self.x0, self.x1)\n",
    "        xmax = max(self.x0, self.x1)\n",
    "        ymin = min(self.y0, self.y1)\n",
    "        ymax = max(self.y0, self.y1)\n",
    "        \n",
    "        if xmin == xmax and ymin == ymax:\n",
    "            selected=np.empty(len(data_i), dtype=bool)\n",
    "            selected.fill(True)\n",
    "            return selected\n",
    "        return (data_j > xmin) & (data_j < xmax) & \\\n",
    "            (data_i > ymin) & (data_i < ymax)\n",
    "    \n",
    "    \n",
    "    def on_press(self, event):\n",
    "        \"\"\"\n",
    "        when mouse press release\n",
    "        - draw/redraw triangle\n",
    "        \"\"\"        \n",
    "        if not self.rect:\n",
    "            self.rect = Rectangle((0,0), 0, 0, facecolor='grey', alpha = 0.2)\n",
    "            self.ax = event.inaxes\n",
    "            self.ax.add_patch(self.rect)\n",
    "            self.ax_ij = self.which_axis()\n",
    "        if self.ax != event.inaxes:\n",
    "            self.ax = event.inaxes\n",
    "            self.rect.set_visible(False)\n",
    "            del self.rect\n",
    "            self.rect = Rectangle((0,0), 0, 0, facecolor='grey', alpha = 0.2)\n",
    "            self.ax.add_patch(self.rect)\n",
    "            self.ax_ij = self.which_axis()\n",
    "        else:\n",
    "            self.rect.set_width(0)\n",
    "            self.rect.set_height(0)\n",
    "\n",
    "        self.press = True\n",
    "        self.x0 = event.xdata\n",
    "        self.y0 = event.ydata\n",
    "\n",
    "    def on_release(self, event):\n",
    "        \"\"\"\n",
    "        when mouse press release\n",
    "        - redraw triangle\n",
    "        - reset colors of data points\n",
    "        \"\"\"\n",
    "\n",
    "        self.press = None\n",
    "        if event.inaxes != self.rect.axes: return\n",
    "        self.x1 = event.xdata\n",
    "        self.y1 = event.ydata\n",
    "        self.rect.set_width(self.x1 - self.x0)\n",
    "        self.rect.set_height(self.y1 - self.y0)\n",
    "        self.rect.set_xy((self.x0, self.y0))\n",
    "        self.set_color()\n",
    "                \n",
    "        self.fig.canvas.draw()\n",
    "    \n",
    "    def on_motion(self, event):\n",
    "        \"\"\"\n",
    "        when mouse move\n",
    "        - redraw triangle\n",
    "        - reset colors of data points\n",
    "        \"\"\"\n",
    "        if self.press is None: return\n",
    "        if event.inaxes != self.rect.axes: return\n",
    "        \n",
    "        self.x1 = event.xdata\n",
    "        self.y1 = event.ydata\n",
    "        self.rect.set_width(self.x1 - self.x0)\n",
    "        self.rect.set_height(self.y1 - self.y0)\n",
    "        self.rect.set_xy((self.x0, self.y0))\n",
    "        \n",
    "        self.set_color()\n",
    "\n",
    "        self.fig.canvas.draw()\n",
    "    \n",
    "    def which_axis(self):\n",
    "        \"\"\"\n",
    "        find the (i, j) index of the subplot selected by mouse event\n",
    "        \"\"\"\n",
    "        for i in range(self.m):\n",
    "            for j in range(self.n):\n",
    "                if self.axes[i,j] is self.ax:\n",
    "                    return (i, j)\n",
    "        return \n",
    "\n",
    "\n",
    "    def set_color(self):\n",
    "        \"\"\"\n",
    "        set color of scattered plots\n",
    "        - selected data points keep the colors\n",
    "        - other data points are shaded in grey\n",
    "        \"\"\"\n",
    "        selected = self.selected()\n",
    "        for i, var_i in enumerate(names[:self.m]):\n",
    "            for j, var_j in enumerate(names[:self.n]):\n",
    "                colors = np.array([colorTable[s] for s in ds['species']])\n",
    "                colors[~selected, :] = grey\n",
    "                sc = self.scatters[i,j]\n",
    "                sc.set_facecolors(colors)\n",
    "                sc.set_edgecolors(colors)\n",
    "        return"
   ]
  },
  {
   "cell_type": "markdown",
   "metadata": {},
   "source": [
    "###  <font color='red'> ipython widget make it too slow, so please coment the following 3 lines out to play interactively </font> "
   ]
  },
  {
   "cell_type": "code",
   "execution_count": null,
   "metadata": {
    "collapsed": false
   },
   "outputs": [],
   "source": [
    "# import ipywidgets as widgets\n",
    "# %matplotlib notebook\n",
    "# w = widgets.HTML()\n",
    "\n",
    "\n",
    "a = Brushing()\n",
    "plt.show()"
   ]
  },
  {
   "cell_type": "markdown",
   "metadata": {},
   "source": [
    "# #3 Generic \"Brushing\" code -- by Bokeh"
   ]
  },
  {
   "cell_type": "code",
   "execution_count": null,
   "metadata": {
    "collapsed": false
   },
   "outputs": [],
   "source": [
    "import numpy as np\n",
    "from bokeh.plotting import figure, gridplot, show, output_notebook \n",
    "from bokeh.models import ColumnDataSource"
   ]
  },
  {
   "cell_type": "code",
   "execution_count": null,
   "metadata": {
    "collapsed": true
   },
   "outputs": [],
   "source": [
    "data_dir = 'hw_2_data/'\n",
    "filename = data_dir + 'flowers.csv'\n",
    "\n",
    "# datatype\n",
    "dt = [('sepalLength', 'f4'), ('sepalWidth', 'f4'),\n",
    "     ('petalLength', 'f4'), ('petalWidth', 'f4'), ('species', 'S10')]\n",
    "\n",
    "names = ['sepalLength', 'sepalWidth', 'petalLength', 'petalWidth', 'species']\n",
    "formats = ['f4', 'f4', 'f4', 'f4', 'S10']\n",
    "dt = {'names': names, 'formats':formats}\n",
    "# dataset\n",
    "ds = np.loadtxt(filename, delimiter=',', skiprows=1, dtype=dt)"
   ]
  },
  {
   "cell_type": "code",
   "execution_count": null,
   "metadata": {
    "collapsed": true
   },
   "outputs": [],
   "source": [
    "# construct colors for species\n",
    "blue = \"rgba(0, 0, 255, 1)\"\n",
    "red = \"rgba(255, 0, 0, 0.75)\"\n",
    "green = \"rgba(0, 128, 0, 0.75)\"\n",
    "grey = \"rgba(192, 192, 192, 0.5)\"\n",
    "colorTable = {b'setosa': red, b'versicolor': blue, b'virginica': green}\n",
    "colors = np.array([colorTable[s] for s in ds['species']])"
   ]
  },
  {
   "cell_type": "code",
   "execution_count": null,
   "metadata": {
    "collapsed": false
   },
   "outputs": [],
   "source": [
    "output_notebook()\n",
    "source = ColumnDataSource(data={name : ds[name] for name in names[:4]})\n",
    "TOOLS = \"pan,wheel_zoom,box_zoom,reset,save,box_select,lasso_select\""
   ]
  },
  {
   "cell_type": "markdown",
   "metadata": {},
   "source": [
    "generate grids and plot data on figures"
   ]
  },
  {
   "cell_type": "code",
   "execution_count": null,
   "metadata": {
    "collapsed": false
   },
   "outputs": [],
   "source": [
    "m, n= 4, 4\n",
    "grids = [[figure(tools = TOOLS, width = 200, height=200) for i in range(m)] for j in range(n)]\n",
    "\n",
    "for i, ni in enumerate(names[:m]):\n",
    "    for j, nj in enumerate(names[:n]):\n",
    "        grids[i][j].circle(nj, ni, fill_color = colors, line_color=None, source = source)"
   ]
  },
  {
   "cell_type": "markdown",
   "metadata": {},
   "source": [
    "show grid plot"
   ]
  },
  {
   "cell_type": "code",
   "execution_count": null,
   "metadata": {
    "collapsed": false,
    "scrolled": true
   },
   "outputs": [],
   "source": [
    "p = gridplot(grids)\n",
    "show(p)"
   ]
  },
  {
   "cell_type": "code",
   "execution_count": null,
   "metadata": {
    "collapsed": true
   },
   "outputs": [],
   "source": []
  }
 ],
 "metadata": {
  "kernelspec": {
   "display_name": "Python 3",
   "language": "python",
   "name": "python3"
  },
  "language_info": {
   "codemirror_mode": {
    "name": "ipython",
    "version": 3
   },
   "file_extension": ".py",
   "mimetype": "text/x-python",
   "name": "python",
   "nbconvert_exporter": "python",
   "pygments_lexer": "ipython3",
   "version": "3.5.1"
  },
  "widgets": {
   "state": {},
   "version": "1.1.2"
  }
 },
 "nbformat": 4,
 "nbformat_minor": 0
}
