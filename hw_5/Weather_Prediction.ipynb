{
 "cells": [
  {
   "cell_type": "markdown",
   "metadata": {},
   "source": [
    "## NOTE:\n",
    "    PART OF PROB4 AND PROB 5 WERE FINISHED AFTER DEADLINE. I DON'T EXPECT SCORE FOR THEM, BUT I APPRECIATE FEEDBACK."
   ]
  },
  {
   "cell_type": "markdown",
   "metadata": {},
   "source": [
    "## #1 Make a table with geographic info about top 50 airports"
   ]
  },
  {
   "cell_type": "markdown",
   "metadata": {
    "collapsed": false
   },
   "source": [
    "Read CSV files into pandas dataframes"
   ]
  },
  {
   "cell_type": "code",
   "execution_count": 1,
   "metadata": {
    "collapsed": true
   },
   "outputs": [],
   "source": [
    "import pandas as pd\n",
    "\n",
    "top_airport_csv = 'hw_5_data/top_airports.csv'\n",
    "ICAO_airport_csv = 'hw_5_data/ICAO_airports.csv'\n",
    "top50_df = pd.read_csv(top_airport_csv)\n",
    "icao_df = pd.read_csv(ICAO_airport_csv)\n",
    "\n",
    "# merge two data frames to obtain info for the top 50 airports\n",
    "merged_df = pd.merge(top50_df, icao_df, how='inner', left_on='ICAO', right_on='ident')"
   ]
  },
  {
   "cell_type": "markdown",
   "metadata": {},
   "source": [
    "Select columns for city, airport, latitude and longitude info\n",
    "- City_Airport_Latitude_Longitude_DataFrame (CALL_DF)"
   ]
  },
  {
   "cell_type": "code",
   "execution_count": 2,
   "metadata": {
    "collapsed": false
   },
   "outputs": [
    {
     "data": {
      "text/html": [
       "<div>\n",
       "<table border=\"1\" class=\"dataframe\">\n",
       "  <thead>\n",
       "    <tr style=\"text-align: right;\">\n",
       "      <th></th>\n",
       "      <th>City</th>\n",
       "      <th>Airport</th>\n",
       "      <th>ICAO</th>\n",
       "      <th>latitude_deg</th>\n",
       "      <th>longitude_deg</th>\n",
       "    </tr>\n",
       "  </thead>\n",
       "  <tbody>\n",
       "    <tr>\n",
       "      <th>0</th>\n",
       "      <td>Atlanta</td>\n",
       "      <td>Hartsfield-Jackson Atlanta International Airport</td>\n",
       "      <td>KATL</td>\n",
       "      <td>33.636700</td>\n",
       "      <td>-84.428101</td>\n",
       "    </tr>\n",
       "    <tr>\n",
       "      <th>1</th>\n",
       "      <td>Chicago</td>\n",
       "      <td>Chicago O'Hare International Airport</td>\n",
       "      <td>KORD</td>\n",
       "      <td>41.978600</td>\n",
       "      <td>-87.904800</td>\n",
       "    </tr>\n",
       "    <tr>\n",
       "      <th>2</th>\n",
       "      <td>Los Angeles</td>\n",
       "      <td>Los Angeles International Airport</td>\n",
       "      <td>KLAX</td>\n",
       "      <td>33.942501</td>\n",
       "      <td>-118.407997</td>\n",
       "    </tr>\n",
       "  </tbody>\n",
       "</table>\n",
       "</div>"
      ],
      "text/plain": [
       "          City                                           Airport  ICAO  \\\n",
       "0      Atlanta  Hartsfield-Jackson Atlanta International Airport  KATL   \n",
       "1      Chicago              Chicago O'Hare International Airport  KORD   \n",
       "2  Los Angeles                 Los Angeles International Airport  KLAX   \n",
       "\n",
       "   latitude_deg  longitude_deg  \n",
       "0     33.636700     -84.428101  \n",
       "1     41.978600     -87.904800  \n",
       "2     33.942501    -118.407997  "
      ]
     },
     "execution_count": 2,
     "metadata": {},
     "output_type": "execute_result"
    }
   ],
   "source": [
    "call_df = merged_df[['City', 'Airport', 'ICAO', 'latitude_deg', 'longitude_deg']]\n",
    "call_df.head(3)"
   ]
  },
  {
   "cell_type": "markdown",
   "metadata": {},
   "source": [
    "#### Create database AIRPORTS"
   ]
  },
  {
   "cell_type": "code",
   "execution_count": 3,
   "metadata": {
    "collapsed": false
   },
   "outputs": [
    {
     "data": {
      "text/plain": [
       "<sqlite3.Cursor at 0x10dddb8f0>"
      ]
     },
     "execution_count": 3,
     "metadata": {},
     "output_type": "execute_result"
    }
   ],
   "source": [
    "import sqlite3, os.path\n",
    "\n",
    "# remove database in case there's already one there\n",
    "!rm hw_5_data/call.db\n",
    "\n",
    "connection = sqlite3.connect(\"hw_5_data/call.db\")\n",
    "cursor = connection.cursor()\n",
    "sql_cmd = \"\"\"CREATE TABLE airports (id INTEGER PRIMARY KEY AUTOINCREMENT,\n",
    "        airport TEXT, city TEXT, icao TEXT, latitude FLOAT, longitude FLOAT)\"\"\"\n",
    "cursor.execute(sql_cmd)"
   ]
  },
  {
   "cell_type": "markdown",
   "metadata": {},
   "source": [
    "#### Fill into AIRPORTS info for top 50 airports"
   ]
  },
  {
   "cell_type": "code",
   "execution_count": 4,
   "metadata": {
    "collapsed": false
   },
   "outputs": [],
   "source": [
    "for row in call_df.values:\n",
    "    city, airport, icao, lat, lon = row\n",
    "    sql_cmd = \"\"\"INSERT INTO airports (airport, city, icao,\n",
    "    latitude, longitude) VALUES (\"{}\",\"{}\",\"{}\", {},{})\"\"\".format(\n",
    "        airport, city, icao, str(lat), str(lon))\n",
    "    cursor.execute(sql_cmd)\n",
    "    \n",
    "connection.commit()\n",
    "connection.close()"
   ]
  },
  {
   "cell_type": "markdown",
   "metadata": {},
   "source": [
    "## #2 build table to hold historic weather data"
   ]
  },
  {
   "cell_type": "code",
   "execution_count": 5,
   "metadata": {
    "collapsed": false
   },
   "outputs": [],
   "source": [
    "# remove database in case there's already one there\n",
    "!rm hw_5_data/weather.db\n",
    "\n",
    "connection = sqlite3.connect(\"hw_5_data/weather.db\")\n",
    "cursor = connection.cursor()\n",
    "sql_cmd = \"\"\"CREATE TABLE weather (id INTEGER PRIMARY KEY AUTOINCREMENT, date DATE,\n",
    "        icao TEXT, min_temp INT, max_temp INT, min_hum INT, max_hum INT, prec FLOAT)\"\"\"\n",
    "cursor.execute(sql_cmd)\n",
    "connection.commit()\n",
    "connection.close()"
   ]
  },
  {
   "cell_type": "markdown",
   "metadata": {},
   "source": [
    "## #3.1 crawler to pull data from Weather Underground"
   ]
  },
  {
   "cell_type": "code",
   "execution_count": 6,
   "metadata": {
    "collapsed": false
   },
   "outputs": [],
   "source": [
    "from util import write2csv"
   ]
  },
  {
   "cell_type": "code",
   "execution_count": 7,
   "metadata": {
    "collapsed": false
   },
   "outputs": [],
   "source": [
    "# list of top 50 airports\n",
    "icao_list = call_df['ICAO'].values"
   ]
  },
  {
   "cell_type": "code",
   "execution_count": 8,
   "metadata": {
    "collapsed": false
   },
   "outputs": [],
   "source": [
    "#-------------------------------------\n",
    "# this is just a demo\n",
    "#\n",
    "# expect it to be slow\n",
    "# a faster version is mentioned in the \n",
    "# next cell\n",
    "#-------------------------------------\n",
    "\n",
    "# timerange just 1 day\n",
    "tr_2010_mar = pd.date_range('20100301', '20100301')\n",
    "fn = 'temp/2010_3.csv'\n",
    "\n",
    "# only looked at the top 10 cities \n",
    "# %time write2csv(tr_2010_mar, icao_list[:10], fn) # uncomment to see demo"
   ]
  },
  {
   "cell_type": "markdown",
   "metadata": {
    "collapsed": true
   },
   "source": [
    "### fetching URL is slow ... \n",
    "- to speed up I used multiprocessing, see \n",
    "- later I realized that it's really IO bound so multithreading or asynchronous IO should perform better\n",
    "- but I already fetched all the data in about 5 hours...will look into asyncio/multithreading when I have finished the homework "
   ]
  },
  {
   "cell_type": "markdown",
   "metadata": {},
   "source": [
    "### IMPORTANT: please untar the data files in hw_5_data/weather_data\n",
    "\n",
    "in bash:\n",
    "\n",
    "\"\"\"\n",
    "\n",
    "cd hw_5_data/weather_data \n",
    "\n",
    "for i in 2008 ... 2016\n",
    "\n",
    "do \n",
    "\n",
    "    tar -xvf $i.tar\n",
    "    \n",
    "done\n",
    "\n",
    "\"\"\"\n",
    "\n",
    "### check_files() then Check if all the data are downloaded (see below)\n",
    "- also check if every file (for 1 day) has 50 lines (correspond to 50 cities)"
   ]
  },
  {
   "cell_type": "code",
   "execution_count": 9,
   "metadata": {
    "collapsed": false
   },
   "outputs": [],
   "source": [
    "import os.path\n",
    "\n",
    "def check_files():\n",
    "    tr = pd.date_range('20080101', '20161006')\n",
    "\n",
    "    ok = True\n",
    "    for date in tr:\n",
    "        filename = 'hw_5_data/weather_data/' + date.strftime('%Y') + '/'+ \\\n",
    "                       date.strftime('%Y%m%d')+'.csv'\n",
    "        if not os.path.isfile(filename):\n",
    "            print(date.strftime('%Y%m%d') + ' is missing.')\n",
    "            ok = False\n",
    "            continue\n",
    "        f = open(filename)\n",
    "        num_lines = sum(1 for line in f)\n",
    "        f.close()\n",
    "        if num_lines != 50:\n",
    "            ok = False\n",
    "            print(date.strftime('%Y%m%d') + ' may be corrupted, number of cities =/= 50.')\n",
    "    if ok: print('no file corruption/missing')"
   ]
  },
  {
   "cell_type": "code",
   "execution_count": 10,
   "metadata": {
    "collapsed": false
   },
   "outputs": [
    {
     "name": "stdout",
     "output_type": "stream",
     "text": [
      "no file corruption/missing\n"
     ]
    }
   ],
   "source": [
    "# this takes about 15s\n",
    "check_files()"
   ]
  },
  {
   "cell_type": "markdown",
   "metadata": {},
   "source": [
    "## #3.2 push data to the database"
   ]
  },
  {
   "cell_type": "markdown",
   "metadata": {},
   "source": [
    "First load all the data into a pandas DataFrame\n",
    "- this took ~ 30s on my 2014 MacBook Pro\n",
    "- the next step took ~ 20s "
   ]
  },
  {
   "cell_type": "code",
   "execution_count": 11,
   "metadata": {
    "collapsed": true
   },
   "outputs": [],
   "source": [
    "from util import fetch_df\n",
    "\n",
    "tr = pd.date_range('20080101', '20161006')\n",
    "all_df = pd.DataFrame()\n",
    "for date in tr:\n",
    "    # fetch data for that day\n",
    "    if all_df.empty:\n",
    "        all_df = fetch_df(date)\n",
    "    else:\n",
    "        df = fetch_df(date)\n",
    "        all_df = all_df.append(df, ignore_index=True)\n",
    "    \n",
    "# interpolate data to remove NaN\n",
    "all_df = all_df.fillna(method='pad').fillna(method='bfill')"
   ]
  },
  {
   "cell_type": "code",
   "execution_count": 12,
   "metadata": {
    "collapsed": false
   },
   "outputs": [],
   "source": [
    "\n",
    "connection = sqlite3.connect(\"hw_5_data/weather.db\")\n",
    "cursor = connection.cursor()\n",
    "\n",
    "#insert data into database\n",
    "for row in all_df.values:\n",
    "    date, icao, min_temp, max_temp, min_hum, max_hum, prec = row\n",
    "    date = pd.to_datetime(date).strftime('%m/%d/%Y')\n",
    "    \n",
    "    sql_cmd = \"\"\"INSERT INTO weather (date, icao, min_temp, max_temp, \n",
    "    min_hum, max_hum, prec) VALUES (\"{}\",\"{}\",{},{},{},{},{})\"\"\".format(\n",
    "        date, icao, min_temp, max_temp, min_hum, max_hum, prec)\n",
    "    \n",
    "    cursor.execute(sql_cmd)\n",
    "    \n",
    "connection.commit()\n",
    "connection.close()"
   ]
  },
  {
   "cell_type": "markdown",
   "metadata": {},
   "source": [
    "## #4 Correlation between weather of cities"
   ]
  },
  {
   "cell_type": "code",
   "execution_count": 13,
   "metadata": {
    "collapsed": false
   },
   "outputs": [],
   "source": [
    "import numpy as np\n",
    "import pandas as pd\n",
    "import sqlite3"
   ]
  },
  {
   "cell_type": "code",
   "execution_count": 67,
   "metadata": {
    "collapsed": false
   },
   "outputs": [],
   "source": [
    "connection = sqlite3.connect(\"hw_5_data/weather.db\")\n",
    "cursor = connection.cursor()\n",
    "\n",
    "\n",
    "def temp_prec_corr(n):\n",
    "    \"\"\"\n",
    "    find the correlation between temperature between any two cities with N day shifts.\n",
    "    \"\"\"\n",
    "    import os.path    \n",
    "    \n",
    "    # this is the file we are gonna store the correlations\n",
    "    filename = 'hw_5_data/corr_{}.npy'.format(n)\n",
    "    \n",
    "    # skip if .npy file already exist\n",
    "    \n",
    "    if os.path.isfile(filename):\n",
    "        return\n",
    "    \n",
    "    temp_corr_arr = []\n",
    "    prec_corr_arr = []\n",
    "\n",
    "    for (i, city_1) in enumerate(icao_list):\n",
    "        for (j, city_2) in enumerate(icao_list):\n",
    "            sql_cmd = \"\"\"SELECT max_temp, min_temp, prec FROM weather WHERE icao = \"{}\" \"\"\".format(city_1)\n",
    "            cursor.execute(sql_cmd)\n",
    "            city_1_info = np.array(cursor.fetchall())\n",
    "            high_temp_1 = np.array([int(temp) for temp in city_1_info[:, 0]])\n",
    "            low_temp_1 = np.array([int(temp) for temp in city_1_info[:, 1]])\n",
    "            #average temperature\n",
    "            temp_1 = (high_temp_1 + low_temp_1)/2\n",
    "            prec_1 = np.array([float(temp) for temp in city_1_info[:, 2]])\n",
    "            \n",
    "            # daily change in temperature\n",
    "            temp_change_1 = np.roll(temp_1, 1) - temp_1\n",
    "#             prec_change_1 = np.roll(prec_1, 1) - prec_1\n",
    "\n",
    "            sql_cmd = \"\"\"SELECT max_temp, min_temp, prec FROM weather WHERE icao = \"{}\" \"\"\".format(city_2)\n",
    "            cursor.execute(sql_cmd)\n",
    "            city_2_info = np.array(cursor.fetchall())\n",
    "            high_temp_2 = np.array([int(temp) for temp in city_2_info[:, 0]])\n",
    "            low_temp_2 = np.array([int(temp) for temp in city_2_info[:, 1]])\n",
    "            #average temperature\n",
    "            temp_2 = (high_temp_2 + low_temp_2)/2            \n",
    "            prec_2 = np.array([float(temp) for temp in city_2_info[:, 2]])\n",
    "\n",
    "            # daily change in temperature\n",
    "            temp_change_2 = np.roll(temp_2, 1) - temp_2\n",
    "#             prec_change_2 = np.roll(prec_2, 1) - prec_2\n",
    "            \n",
    "            t_corr = np.corrcoef(temp_change_1, np.roll(temp_change_2, n))[1, 0]\n",
    "#             p_corr = np.corrcoef(prec_change_1, np.roll(prec_change_2,n))[1, 0]\n",
    "            p_corr = np.corrcoef(prec_1, np.roll(prec_2,n))[1, 0]\n",
    "            \n",
    "            temp_corr_arr += [t_corr]\n",
    "            prec_corr_arr += [p_corr]\n",
    "\n",
    "    corr_n = [temp_corr_arr, prec_corr_arr]\n",
    "    # save to .npy file for future use\n",
    "    np.save('hw_5_data/corr_{}'.format(n), corr_n)            \n",
    "    return corr_n"
   ]
  },
  {
   "cell_type": "markdown",
   "metadata": {},
   "source": [
    "#### UNCOMMENT the liines below if you want to calculate correlation on your own machine\n",
    "- It took ~4min on my 2014 MacBook Pro\n",
    "- I have already saved data files in the data folder so you can also load them directly. just go to the next cell"
   ]
  },
  {
   "cell_type": "code",
   "execution_count": 69,
   "metadata": {
    "collapsed": false
   },
   "outputs": [],
   "source": [
    "# !rm -rf hw_5_data/corr_*.npy\n",
    "\n",
    "# import multiprocessing\n",
    "\n",
    "# pool = multiprocessing.Pool(processes=3)\n",
    "# %time result = pool.map(temp_prec_corr, [1, 3, 7])\n",
    "# pool.close()\n",
    "# pool.join()"
   ]
  },
  {
   "cell_type": "code",
   "execution_count": 70,
   "metadata": {
    "collapsed": false
   },
   "outputs": [],
   "source": [
    "# load data from .npy data file\n",
    "\n",
    "arr = np.load('hw_5_data/corr_1.npy')\n",
    "temp_corr_1, prec_corr_1 = arr[0, :], arr[1, :]\n",
    "\n",
    "arr = np.load('hw_5_data/corr_3.npy')\n",
    "temp_corr_3, prec_corr_3 = arr[0, :], arr[1, :]\n",
    "\n",
    "arr = np.load('hw_5_data/corr_7.npy')\n",
    "temp_corr_7, prec_corr_7 = arr[0, :], arr[1, :]"
   ]
  },
  {
   "cell_type": "code",
   "execution_count": 71,
   "metadata": {
    "collapsed": false
   },
   "outputs": [],
   "source": [
    "import matplotlib.pyplot as plt\n",
    "from mpl_toolkits.axes_grid1 import make_axes_locatable\n",
    "import matplotlib as mpl\n",
    "%matplotlib inline\n",
    "\n",
    "# mpl.style.use('ggplot')\n",
    "mpl.rcParams['axes.titlesize'] = 20"
   ]
  },
  {
   "cell_type": "markdown",
   "metadata": {},
   "source": [
    "#### make density plots for correlations"
   ]
  },
  {
   "cell_type": "code",
   "execution_count": 72,
   "metadata": {
    "collapsed": false
   },
   "outputs": [
    {
     "data": {
      "text/plain": [
       "<matplotlib.colorbar.Colorbar at 0x1172d7cf8>"
      ]
     },
     "execution_count": 72,
     "metadata": {},
     "output_type": "execute_result"
    },
    {
     "data": {
      "image/png": "[encoded data removed]",
      "text/plain": [
       "<matplotlib.figure.Figure at 0x1179146a0>"
      ]
     },
     "metadata": {},
     "output_type": "display_data"
    }
   ],
   "source": [
    "fig1, (ax1, ax2)  = plt.subplots(1,2, figsize=[10, 5])\n",
    "\n",
    "# num of city\n",
    "nc = 50\n",
    "im1 = ax1.imshow(temp_corr_1.reshape(nc, nc), interpolation='nearest',cmap='rainbow')\n",
    "ax1.set_title('temp corr 1 day')\n",
    "im2 = ax2.imshow(prec_corr_1.reshape(nc, nc), interpolation='nearest',cmap='rainbow')\n",
    "ax2.set_title('precip corr 1 day')\n",
    "# add color bar\n",
    "fig1.subplots_adjust(right=0.8)\n",
    "cbar_ax = fig1.add_axes([0.85, 0.15, 0.05, 0.7])\n",
    "fig1.colorbar(im1, cax=cbar_ax)"
   ]
  },
  {
   "cell_type": "code",
   "execution_count": 73,
   "metadata": {
    "collapsed": false
   },
   "outputs": [
    {
     "data": {
      "text/plain": [
       "<matplotlib.colorbar.Colorbar at 0x117dcd2e8>"
      ]
     },
     "execution_count": 73,
     "metadata": {},
     "output_type": "execute_result"
    },
    {
     "data": {
      "image/png": "[encoded data removed]",
      "text/plain": [
       "<matplotlib.figure.Figure at 0x11624af60>"
      ]
     },
     "metadata": {},
     "output_type": "display_data"
    }
   ],
   "source": [
    "fig3, (ax1, ax2)  = plt.subplots(1,2, figsize=[10, 5])\n",
    "\n",
    "# num of city\n",
    "nc = 50\n",
    "im1 = ax1.imshow(temp_corr_3.reshape(nc, nc), interpolation='nearest',cmap='rainbow')\n",
    "ax1.set_title('temp corr 3 day')\n",
    "im2 = ax2.imshow(prec_corr_3.reshape(nc, nc), interpolation='nearest',cmap='rainbow')\n",
    "ax2.set_title('precip corr 3 day')\n",
    "# add color bar\n",
    "fig3.subplots_adjust(right=0.8)\n",
    "cbar_ax = fig3.add_axes([0.85, 0.15, 0.05, 0.7])\n",
    "fig3.colorbar(im1, cax=cbar_ax)"
   ]
  },
  {
   "cell_type": "code",
   "execution_count": 74,
   "metadata": {
    "collapsed": false
   },
   "outputs": [
    {
     "data": {
      "text/plain": [
       "<matplotlib.colorbar.Colorbar at 0x117f4cc88>"
      ]
     },
     "execution_count": 74,
     "metadata": {},
     "output_type": "execute_result"
    },
    {
     "data": {
      "image/png": "[encoded data removed]",
      "text/plain": [
       "<matplotlib.figure.Figure at 0x117e0d7b8>"
      ]
     },
     "metadata": {},
     "output_type": "display_data"
    }
   ],
   "source": [
    "fig7, (ax1, ax2)  = plt.subplots(1,2, figsize=[10, 5])\n",
    "\n",
    "# num of city\n",
    "nc = 50\n",
    "im1 = ax1.imshow(temp_corr_7.reshape(nc, nc), interpolation='nearest',cmap='rainbow')\n",
    "ax1.set_title('temp corr 7 day')\n",
    "im2 = ax2.imshow(prec_corr_7.reshape(nc, nc), interpolation='nearest',cmap='rainbow')\n",
    "ax2.set_title('precip corr 7 day')\n",
    "# add color bar\n",
    "fig7.subplots_adjust(right=0.8)\n",
    "cbar_ax = fig7.add_axes([0.85, 0.15, 0.05, 0.7])\n",
    "fig7.colorbar(im1, cax=cbar_ax)"
   ]
  },
  {
   "cell_type": "markdown",
   "metadata": {},
   "source": [
    "## #5 Examine correlation length"
   ]
  },
  {
   "cell_type": "code",
   "execution_count": 75,
   "metadata": {
    "collapsed": false
   },
   "outputs": [],
   "source": [
    "def get_ntop_corr(corr_pairs, ntop = 10, nc = 50):\n",
    "    \"\"\"\n",
    "    parameter\n",
    "    ---------\n",
    "        corr_pairs: correlation between all city pairs between NC number of cities\n",
    "            for some weather variable. \n",
    "        ntop: number of most correlated city pairs that we want to study\n",
    "        nc: number of cities --> number of pairs are nc^2\n",
    "    \n",
    "    return\n",
    "    ------\n",
    "        pandas DataFrame containing info for\n",
    "            NTOP most correlated pairs of cities with \n",
    "            \n",
    "            city1: 1st city in the pair \n",
    "            city2: 2nd city in the pair (whose weather 'is' predicted)\n",
    "            icao1: ICAO # for the airport near city1\n",
    "            icao2: ICAO # for the airport near city2\n",
    "            distance: distance in km between city1 and city2\n",
    "            corr: correlation coeff\n",
    "    \"\"\"\n",
    "\n",
    "    # index of the N top correlated pairs\n",
    "    ntop_ind = corr_pairs.argsort()[-ntop:][::-1]\n",
    "    corr_arr = corr_pairs[ntop_ind]\n",
    "    \n",
    "    city1_ind = ntop_ind // nc\n",
    "    city2_ind = ntop_ind % nc\n",
    "\n",
    "    city1_arr = call_df['City'][city1_ind].values\n",
    "    icao1_arr = call_df['ICAO'][city1_ind].values\n",
    "    city2_arr = call_df['City'][city2_ind].values\n",
    "    icao2_arr = call_df['ICAO'][city2_ind].values\n",
    "    lat1_arr = call_df['latitude_deg'][city1_ind].values\n",
    "    lat2_arr = call_df['latitude_deg'][city2_ind].values\n",
    "    lon1_arr = call_df['longitude_deg'][city1_ind].values\n",
    "    lon2_arr = call_df['longitude_deg'][city2_ind].values\n",
    "\n",
    "\n",
    "    from util import lat_lon_2_distance\n",
    "    from itertools import starmap\n",
    "\n",
    "    dist_arr = np.array(list(starmap(lat_lon_2_distance, \n",
    "                                 zip(lat1_arr, lon1_arr, lat2_arr, lon2_arr))))\n",
    "    diff_lon = np.abs(lon1_arr - lon2_arr)\n",
    "\n",
    "    # build a new dataframe\n",
    "\n",
    "    return pd.DataFrame({'city 1': city1_arr,\n",
    "                         'icao 1': icao1_arr,\n",
    "                         'city 2': city2_arr,\n",
    "                         'icao 2': icao2_arr,\n",
    "                         'distance': dist_arr,\n",
    "                         'diff_lon': diff_lon,\n",
    "                         'corr': corr_arr\n",
    "                 })"
   ]
  },
  {
   "cell_type": "markdown",
   "metadata": {},
   "source": [
    "### 1day correlation"
   ]
  },
  {
   "cell_type": "code",
   "execution_count": 76,
   "metadata": {
    "collapsed": false
   },
   "outputs": [],
   "source": [
    "temp_1_df = get_ntop_corr(temp_corr_1)\n",
    "prec_1_df = get_ntop_corr(prec_corr_1)"
   ]
  },
  {
   "cell_type": "code",
   "execution_count": 77,
   "metadata": {
    "collapsed": false
   },
   "outputs": [
    {
     "data": {
      "text/html": [
       "<div>\n",
       "<table border=\"1\" class=\"dataframe\">\n",
       "  <thead>\n",
       "    <tr style=\"text-align: right;\">\n",
       "      <th></th>\n",
       "      <th>city 1</th>\n",
       "      <th>city 2</th>\n",
       "      <th>corr</th>\n",
       "      <th>diff_lon</th>\n",
       "      <th>distance</th>\n",
       "      <th>icao 1</th>\n",
       "      <th>icao 2</th>\n",
       "    </tr>\n",
       "  </thead>\n",
       "  <tbody>\n",
       "    <tr>\n",
       "      <th>0</th>\n",
       "      <td>Washington D.C. / Chantilly / Dulles</td>\n",
       "      <td>Indianapolis</td>\n",
       "      <td>0.628613</td>\n",
       "      <td>8.838600</td>\n",
       "      <td>764.963008</td>\n",
       "      <td>KIAD</td>\n",
       "      <td>KIND</td>\n",
       "    </tr>\n",
       "    <tr>\n",
       "      <th>1</th>\n",
       "      <td>Raleigh</td>\n",
       "      <td>Indianapolis</td>\n",
       "      <td>0.625759</td>\n",
       "      <td>7.506905</td>\n",
       "      <td>785.521589</td>\n",
       "      <td>KRDU</td>\n",
       "      <td>KIND</td>\n",
       "    </tr>\n",
       "    <tr>\n",
       "      <th>2</th>\n",
       "      <td>Baltimore / Glen Burnie</td>\n",
       "      <td>Indianapolis</td>\n",
       "      <td>0.617526</td>\n",
       "      <td>9.626106</td>\n",
       "      <td>828.616366</td>\n",
       "      <td>KBWI</td>\n",
       "      <td>KIND</td>\n",
       "    </tr>\n",
       "    <tr>\n",
       "      <th>3</th>\n",
       "      <td>Washington D.C. / Arlington County</td>\n",
       "      <td>Indianapolis</td>\n",
       "      <td>0.616448</td>\n",
       "      <td>9.256706</td>\n",
       "      <td>802.358426</td>\n",
       "      <td>KDCA</td>\n",
       "      <td>KIND</td>\n",
       "    </tr>\n",
       "    <tr>\n",
       "      <th>4</th>\n",
       "      <td>Covington</td>\n",
       "      <td>Kansas City</td>\n",
       "      <td>0.615095</td>\n",
       "      <td>10.046097</td>\n",
       "      <td>866.269705</td>\n",
       "      <td>KCVG</td>\n",
       "      <td>KMCI</td>\n",
       "    </tr>\n",
       "    <tr>\n",
       "      <th>5</th>\n",
       "      <td>Pittsburgh</td>\n",
       "      <td>Chicago</td>\n",
       "      <td>0.604256</td>\n",
       "      <td>7.519501</td>\n",
       "      <td>645.916265</td>\n",
       "      <td>KPIT</td>\n",
       "      <td>KMDW</td>\n",
       "    </tr>\n",
       "    <tr>\n",
       "      <th>6</th>\n",
       "      <td>Baltimore / Glen Burnie</td>\n",
       "      <td>Cleveland</td>\n",
       "      <td>0.603659</td>\n",
       "      <td>5.181503</td>\n",
       "      <td>504.961220</td>\n",
       "      <td>KBWI</td>\n",
       "      <td>KCLE</td>\n",
       "    </tr>\n",
       "    <tr>\n",
       "      <th>7</th>\n",
       "      <td>Washington D.C. / Chantilly / Dulles</td>\n",
       "      <td>Chicago</td>\n",
       "      <td>0.602988</td>\n",
       "      <td>10.296600</td>\n",
       "      <td>927.374880</td>\n",
       "      <td>KIAD</td>\n",
       "      <td>KMDW</td>\n",
       "    </tr>\n",
       "    <tr>\n",
       "      <th>8</th>\n",
       "      <td>Detroit / Romulus</td>\n",
       "      <td>Minneapolis</td>\n",
       "      <td>0.602362</td>\n",
       "      <td>9.868401</td>\n",
       "      <td>848.511270</td>\n",
       "      <td>KDTW</td>\n",
       "      <td>KMSP</td>\n",
       "    </tr>\n",
       "    <tr>\n",
       "      <th>9</th>\n",
       "      <td>Raleigh</td>\n",
       "      <td>Covington</td>\n",
       "      <td>0.601960</td>\n",
       "      <td>5.880302</td>\n",
       "      <td>627.431014</td>\n",
       "      <td>KRDU</td>\n",
       "      <td>KCVG</td>\n",
       "    </tr>\n",
       "  </tbody>\n",
       "</table>\n",
       "</div>"
      ],
      "text/plain": [
       "                                 city 1        city 2      corr   diff_lon  \\\n",
       "0  Washington D.C. / Chantilly / Dulles  Indianapolis  0.628613   8.838600   \n",
       "1                               Raleigh  Indianapolis  0.625759   7.506905   \n",
       "2               Baltimore / Glen Burnie  Indianapolis  0.617526   9.626106   \n",
       "3    Washington D.C. / Arlington County  Indianapolis  0.616448   9.256706   \n",
       "4                             Covington   Kansas City  0.615095  10.046097   \n",
       "5                            Pittsburgh       Chicago  0.604256   7.519501   \n",
       "6               Baltimore / Glen Burnie     Cleveland  0.603659   5.181503   \n",
       "7  Washington D.C. / Chantilly / Dulles       Chicago  0.602988  10.296600   \n",
       "8                     Detroit / Romulus   Minneapolis  0.602362   9.868401   \n",
       "9                               Raleigh     Covington  0.601960   5.880302   \n",
       "\n",
       "     distance icao 1 icao 2  \n",
       "0  764.963008   KIAD   KIND  \n",
       "1  785.521589   KRDU   KIND  \n",
       "2  828.616366   KBWI   KIND  \n",
       "3  802.358426   KDCA   KIND  \n",
       "4  866.269705   KCVG   KMCI  \n",
       "5  645.916265   KPIT   KMDW  \n",
       "6  504.961220   KBWI   KCLE  \n",
       "7  927.374880   KIAD   KMDW  \n",
       "8  848.511270   KDTW   KMSP  \n",
       "9  627.431014   KRDU   KCVG  "
      ]
     },
     "execution_count": 77,
     "metadata": {},
     "output_type": "execute_result"
    }
   ],
   "source": [
    "# most correlated cities in temperature variation\n",
    "temp_1_df "
   ]
  },
  {
   "cell_type": "code",
   "execution_count": 78,
   "metadata": {
    "collapsed": false
   },
   "outputs": [
    {
     "data": {
      "text/html": [
       "<div>\n",
       "<table border=\"1\" class=\"dataframe\">\n",
       "  <thead>\n",
       "    <tr style=\"text-align: right;\">\n",
       "      <th></th>\n",
       "      <th>city 1</th>\n",
       "      <th>city 2</th>\n",
       "      <th>corr</th>\n",
       "      <th>diff_lon</th>\n",
       "      <th>distance</th>\n",
       "      <th>icao 1</th>\n",
       "      <th>icao 2</th>\n",
       "    </tr>\n",
       "  </thead>\n",
       "  <tbody>\n",
       "    <tr>\n",
       "      <th>0</th>\n",
       "      <td>Los Angeles</td>\n",
       "      <td>San Francisco</td>\n",
       "      <td>0.415599</td>\n",
       "      <td>3.967003</td>\n",
       "      <td>543.359798</td>\n",
       "      <td>KLAX</td>\n",
       "      <td>KSFO</td>\n",
       "    </tr>\n",
       "    <tr>\n",
       "      <th>1</th>\n",
       "      <td>Los Angeles</td>\n",
       "      <td>Sacramento</td>\n",
       "      <td>0.395354</td>\n",
       "      <td>3.183006</td>\n",
       "      <td>600.610239</td>\n",
       "      <td>KLAX</td>\n",
       "      <td>KSMF</td>\n",
       "    </tr>\n",
       "    <tr>\n",
       "      <th>2</th>\n",
       "      <td>Los Angeles</td>\n",
       "      <td>San Jose</td>\n",
       "      <td>0.376426</td>\n",
       "      <td>3.521004</td>\n",
       "      <td>495.885655</td>\n",
       "      <td>KLAX</td>\n",
       "      <td>KSJC</td>\n",
       "    </tr>\n",
       "    <tr>\n",
       "      <th>3</th>\n",
       "      <td>Los Angeles</td>\n",
       "      <td>Oakland</td>\n",
       "      <td>0.370884</td>\n",
       "      <td>3.813004</td>\n",
       "      <td>542.929669</td>\n",
       "      <td>KLAX</td>\n",
       "      <td>KOAK</td>\n",
       "    </tr>\n",
       "    <tr>\n",
       "      <th>4</th>\n",
       "      <td>Sacramento</td>\n",
       "      <td>Sacramento</td>\n",
       "      <td>0.308837</td>\n",
       "      <td>0.000000</td>\n",
       "      <td>0.000000</td>\n",
       "      <td>KSMF</td>\n",
       "      <td>KSMF</td>\n",
       "    </tr>\n",
       "    <tr>\n",
       "      <th>5</th>\n",
       "      <td>Los Angeles</td>\n",
       "      <td>Los Angeles</td>\n",
       "      <td>0.308815</td>\n",
       "      <td>0.000000</td>\n",
       "      <td>0.000000</td>\n",
       "      <td>KLAX</td>\n",
       "      <td>KLAX</td>\n",
       "    </tr>\n",
       "    <tr>\n",
       "      <th>6</th>\n",
       "      <td>Seattle / Tacoma (SeaTac)</td>\n",
       "      <td>Seattle / Tacoma (SeaTac)</td>\n",
       "      <td>0.298381</td>\n",
       "      <td>0.000000</td>\n",
       "      <td>0.000000</td>\n",
       "      <td>KSEA</td>\n",
       "      <td>KSEA</td>\n",
       "    </tr>\n",
       "    <tr>\n",
       "      <th>7</th>\n",
       "      <td>Santa Ana</td>\n",
       "      <td>San Francisco</td>\n",
       "      <td>0.296239</td>\n",
       "      <td>4.507004</td>\n",
       "      <td>598.448891</td>\n",
       "      <td>KSNA</td>\n",
       "      <td>KSFO</td>\n",
       "    </tr>\n",
       "    <tr>\n",
       "      <th>8</th>\n",
       "      <td>Santa Ana</td>\n",
       "      <td>Sacramento</td>\n",
       "      <td>0.284110</td>\n",
       "      <td>3.723007</td>\n",
       "      <td>650.580264</td>\n",
       "      <td>KSNA</td>\n",
       "      <td>KSMF</td>\n",
       "    </tr>\n",
       "    <tr>\n",
       "      <th>9</th>\n",
       "      <td>San Francisco</td>\n",
       "      <td>Sacramento</td>\n",
       "      <td>0.283523</td>\n",
       "      <td>0.783997</td>\n",
       "      <td>137.971679</td>\n",
       "      <td>KSFO</td>\n",
       "      <td>KSMF</td>\n",
       "    </tr>\n",
       "  </tbody>\n",
       "</table>\n",
       "</div>"
      ],
      "text/plain": [
       "                      city 1                     city 2      corr  diff_lon  \\\n",
       "0                Los Angeles              San Francisco  0.415599  3.967003   \n",
       "1                Los Angeles                 Sacramento  0.395354  3.183006   \n",
       "2                Los Angeles                   San Jose  0.376426  3.521004   \n",
       "3                Los Angeles                    Oakland  0.370884  3.813004   \n",
       "4                 Sacramento                 Sacramento  0.308837  0.000000   \n",
       "5                Los Angeles                Los Angeles  0.308815  0.000000   \n",
       "6  Seattle / Tacoma (SeaTac)  Seattle / Tacoma (SeaTac)  0.298381  0.000000   \n",
       "7                  Santa Ana              San Francisco  0.296239  4.507004   \n",
       "8                  Santa Ana                 Sacramento  0.284110  3.723007   \n",
       "9              San Francisco                 Sacramento  0.283523  0.783997   \n",
       "\n",
       "     distance icao 1 icao 2  \n",
       "0  543.359798   KLAX   KSFO  \n",
       "1  600.610239   KLAX   KSMF  \n",
       "2  495.885655   KLAX   KSJC  \n",
       "3  542.929669   KLAX   KOAK  \n",
       "4    0.000000   KSMF   KSMF  \n",
       "5    0.000000   KLAX   KLAX  \n",
       "6    0.000000   KSEA   KSEA  \n",
       "7  598.448891   KSNA   KSFO  \n",
       "8  650.580264   KSNA   KSMF  \n",
       "9  137.971679   KSFO   KSMF  "
      ]
     },
     "execution_count": 78,
     "metadata": {},
     "output_type": "execute_result"
    }
   ],
   "source": [
    "# most correlated cities in precipitation variation\n",
    "prec_1_df "
   ]
  },
  {
   "cell_type": "code",
   "execution_count": 79,
   "metadata": {
    "collapsed": false
   },
   "outputs": [
    {
     "data": {
      "text/plain": [
       "<matplotlib.text.Text at 0x1181c24a8>"
      ]
     },
     "execution_count": 79,
     "metadata": {},
     "output_type": "execute_result"
    },
    {
     "data": {
      "image/png": "[encoded data removed]",
      "text/plain": [
       "<matplotlib.figure.Figure at 0x116edd240>"
      ]
     },
     "metadata": {},
     "output_type": "display_data"
    }
   ],
   "source": [
    "fig1, [[ax1, ax2], [ax3, ax4]]  = plt.subplots(2,2, figsize=[12,10])\n",
    "\n",
    "ax1.scatter(temp_1_df['distance'], temp_1_df['corr'], s=50)\n",
    "ax1.set_title('temp corr with 1 day diff')\n",
    "ax1.set_ylabel('corr')\n",
    "ax1.set_xlabel('distance')\n",
    "ax2.scatter(prec_1_df['distance'], prec_1_df['corr'], s=50)\n",
    "ax2.set_title('precipitation corr with 1 day diff')\n",
    "ax2.set_ylabel('corr')\n",
    "ax2.set_xlabel('distance')\n",
    "\n",
    "ax3.scatter(temp_1_df['diff_lon'], temp_1_df['corr'], s=50)\n",
    "ax3.set_ylabel('corr')\n",
    "ax3.set_xlabel('longitude difference')\n",
    "\n",
    "ax4.scatter(prec_1_df['diff_lon'], prec_1_df['corr'], s=50)\n",
    "ax4.set_ylabel('corr')\n",
    "ax4.set_xlabel('longitude difference')"
   ]
  },
  {
   "cell_type": "markdown",
   "metadata": {},
   "source": [
    "### 3 day correlation"
   ]
  },
  {
   "cell_type": "code",
   "execution_count": 80,
   "metadata": {
    "collapsed": true
   },
   "outputs": [],
   "source": [
    "temp_3_df = get_ntop_corr(temp_corr_3)\n",
    "prec_3_df = get_ntop_corr(prec_corr_3)"
   ]
  },
  {
   "cell_type": "code",
   "execution_count": 81,
   "metadata": {
    "collapsed": false
   },
   "outputs": [
    {
     "data": {
      "text/html": [
       "<div>\n",
       "<table border=\"1\" class=\"dataframe\">\n",
       "  <thead>\n",
       "    <tr style=\"text-align: right;\">\n",
       "      <th></th>\n",
       "      <th>city 1</th>\n",
       "      <th>city 2</th>\n",
       "      <th>corr</th>\n",
       "      <th>diff_lon</th>\n",
       "      <th>distance</th>\n",
       "      <th>icao 1</th>\n",
       "      <th>icao 2</th>\n",
       "    </tr>\n",
       "  </thead>\n",
       "  <tbody>\n",
       "    <tr>\n",
       "      <th>0</th>\n",
       "      <td>New Orleans</td>\n",
       "      <td>Phoenix</td>\n",
       "      <td>0.130603</td>\n",
       "      <td>21.753998</td>\n",
       "      <td>2089.626486</td>\n",
       "      <td>KMSY</td>\n",
       "      <td>KPHX</td>\n",
       "    </tr>\n",
       "    <tr>\n",
       "      <th>1</th>\n",
       "      <td>Dallas-Fort Worth</td>\n",
       "      <td>Los Angeles</td>\n",
       "      <td>0.121051</td>\n",
       "      <td>21.369995</td>\n",
       "      <td>1983.797037</td>\n",
       "      <td>KDFW</td>\n",
       "      <td>KLAX</td>\n",
       "    </tr>\n",
       "    <tr>\n",
       "      <th>2</th>\n",
       "      <td>San Antonio</td>\n",
       "      <td>Los Angeles</td>\n",
       "      <td>0.119646</td>\n",
       "      <td>19.938194</td>\n",
       "      <td>1945.255699</td>\n",
       "      <td>KSAT</td>\n",
       "      <td>KLAX</td>\n",
       "    </tr>\n",
       "    <tr>\n",
       "      <th>3</th>\n",
       "      <td>Dallas</td>\n",
       "      <td>Los Angeles</td>\n",
       "      <td>0.118751</td>\n",
       "      <td>21.556198</td>\n",
       "      <td>2001.858616</td>\n",
       "      <td>KDAL</td>\n",
       "      <td>KLAX</td>\n",
       "    </tr>\n",
       "    <tr>\n",
       "      <th>4</th>\n",
       "      <td>Austin</td>\n",
       "      <td>Los Angeles</td>\n",
       "      <td>0.116271</td>\n",
       "      <td>20.738098</td>\n",
       "      <td>1994.973803</td>\n",
       "      <td>KAUS</td>\n",
       "      <td>KLAX</td>\n",
       "    </tr>\n",
       "    <tr>\n",
       "      <th>5</th>\n",
       "      <td>Dallas-Fort Worth</td>\n",
       "      <td>Santa Ana</td>\n",
       "      <td>0.103055</td>\n",
       "      <td>20.829994</td>\n",
       "      <td>1935.466027</td>\n",
       "      <td>KDFW</td>\n",
       "      <td>KSNA</td>\n",
       "    </tr>\n",
       "    <tr>\n",
       "      <th>6</th>\n",
       "      <td>Houston</td>\n",
       "      <td>Los Angeles</td>\n",
       "      <td>0.102089</td>\n",
       "      <td>23.066597</td>\n",
       "      <td>2215.768844</td>\n",
       "      <td>KIAH</td>\n",
       "      <td>KLAX</td>\n",
       "    </tr>\n",
       "    <tr>\n",
       "      <th>7</th>\n",
       "      <td>Dallas</td>\n",
       "      <td>Santa Ana</td>\n",
       "      <td>0.101807</td>\n",
       "      <td>21.016197</td>\n",
       "      <td>1953.481436</td>\n",
       "      <td>KDAL</td>\n",
       "      <td>KSNA</td>\n",
       "    </tr>\n",
       "    <tr>\n",
       "      <th>8</th>\n",
       "      <td>Houston</td>\n",
       "      <td>Los Angeles</td>\n",
       "      <td>0.100626</td>\n",
       "      <td>23.129097</td>\n",
       "      <td>2233.090419</td>\n",
       "      <td>KHOU</td>\n",
       "      <td>KLAX</td>\n",
       "    </tr>\n",
       "    <tr>\n",
       "      <th>9</th>\n",
       "      <td>San Antonio</td>\n",
       "      <td>Santa Ana</td>\n",
       "      <td>0.100255</td>\n",
       "      <td>19.398193</td>\n",
       "      <td>1891.326659</td>\n",
       "      <td>KSAT</td>\n",
       "      <td>KSNA</td>\n",
       "    </tr>\n",
       "  </tbody>\n",
       "</table>\n",
       "</div>"
      ],
      "text/plain": [
       "              city 1       city 2      corr   diff_lon     distance icao 1  \\\n",
       "0        New Orleans      Phoenix  0.130603  21.753998  2089.626486   KMSY   \n",
       "1  Dallas-Fort Worth  Los Angeles  0.121051  21.369995  1983.797037   KDFW   \n",
       "2        San Antonio  Los Angeles  0.119646  19.938194  1945.255699   KSAT   \n",
       "3             Dallas  Los Angeles  0.118751  21.556198  2001.858616   KDAL   \n",
       "4             Austin  Los Angeles  0.116271  20.738098  1994.973803   KAUS   \n",
       "5  Dallas-Fort Worth    Santa Ana  0.103055  20.829994  1935.466027   KDFW   \n",
       "6            Houston  Los Angeles  0.102089  23.066597  2215.768844   KIAH   \n",
       "7             Dallas    Santa Ana  0.101807  21.016197  1953.481436   KDAL   \n",
       "8            Houston  Los Angeles  0.100626  23.129097  2233.090419   KHOU   \n",
       "9        San Antonio    Santa Ana  0.100255  19.398193  1891.326659   KSAT   \n",
       "\n",
       "  icao 2  \n",
       "0   KPHX  \n",
       "1   KLAX  \n",
       "2   KLAX  \n",
       "3   KLAX  \n",
       "4   KLAX  \n",
       "5   KSNA  \n",
       "6   KLAX  \n",
       "7   KSNA  \n",
       "8   KLAX  \n",
       "9   KSNA  "
      ]
     },
     "execution_count": 81,
     "metadata": {},
     "output_type": "execute_result"
    }
   ],
   "source": [
    "# most correlated cities in temperature variation\n",
    "temp_3_df "
   ]
  },
  {
   "cell_type": "code",
   "execution_count": 82,
   "metadata": {
    "collapsed": false
   },
   "outputs": [
    {
     "data": {
      "text/html": [
       "<div>\n",
       "<table border=\"1\" class=\"dataframe\">\n",
       "  <thead>\n",
       "    <tr style=\"text-align: right;\">\n",
       "      <th></th>\n",
       "      <th>city 1</th>\n",
       "      <th>city 2</th>\n",
       "      <th>corr</th>\n",
       "      <th>diff_lon</th>\n",
       "      <th>distance</th>\n",
       "      <th>icao 1</th>\n",
       "      <th>icao 2</th>\n",
       "    </tr>\n",
       "  </thead>\n",
       "  <tbody>\n",
       "    <tr>\n",
       "      <th>0</th>\n",
       "      <td>San Francisco</td>\n",
       "      <td>Sacramento</td>\n",
       "      <td>0.141351</td>\n",
       "      <td>0.783997</td>\n",
       "      <td>137.971679</td>\n",
       "      <td>KSFO</td>\n",
       "      <td>KSMF</td>\n",
       "    </tr>\n",
       "    <tr>\n",
       "      <th>1</th>\n",
       "      <td>Oakland</td>\n",
       "      <td>Sacramento</td>\n",
       "      <td>0.132286</td>\n",
       "      <td>0.629997</td>\n",
       "      <td>121.536728</td>\n",
       "      <td>KOAK</td>\n",
       "      <td>KSMF</td>\n",
       "    </tr>\n",
       "    <tr>\n",
       "      <th>2</th>\n",
       "      <td>San Diego</td>\n",
       "      <td>Los Angeles</td>\n",
       "      <td>0.132159</td>\n",
       "      <td>1.217995</td>\n",
       "      <td>175.756439</td>\n",
       "      <td>KSAN</td>\n",
       "      <td>KLAX</td>\n",
       "    </tr>\n",
       "    <tr>\n",
       "      <th>3</th>\n",
       "      <td>Seattle / Tacoma (SeaTac)</td>\n",
       "      <td>Seattle / Tacoma (SeaTac)</td>\n",
       "      <td>0.129511</td>\n",
       "      <td>0.000000</td>\n",
       "      <td>0.000000</td>\n",
       "      <td>KSEA</td>\n",
       "      <td>KSEA</td>\n",
       "    </tr>\n",
       "    <tr>\n",
       "      <th>4</th>\n",
       "      <td>Los Angeles</td>\n",
       "      <td>Los Angeles</td>\n",
       "      <td>0.128430</td>\n",
       "      <td>0.000000</td>\n",
       "      <td>0.000000</td>\n",
       "      <td>KLAX</td>\n",
       "      <td>KLAX</td>\n",
       "    </tr>\n",
       "    <tr>\n",
       "      <th>5</th>\n",
       "      <td>Santa Ana</td>\n",
       "      <td>San Diego</td>\n",
       "      <td>0.124222</td>\n",
       "      <td>0.677994</td>\n",
       "      <td>122.320182</td>\n",
       "      <td>KSNA</td>\n",
       "      <td>KSAN</td>\n",
       "    </tr>\n",
       "    <tr>\n",
       "      <th>6</th>\n",
       "      <td>Santa Ana</td>\n",
       "      <td>Los Angeles</td>\n",
       "      <td>0.123073</td>\n",
       "      <td>0.540001</td>\n",
       "      <td>58.063549</td>\n",
       "      <td>KSNA</td>\n",
       "      <td>KLAX</td>\n",
       "    </tr>\n",
       "    <tr>\n",
       "      <th>7</th>\n",
       "      <td>Los Angeles</td>\n",
       "      <td>Sacramento</td>\n",
       "      <td>0.122063</td>\n",
       "      <td>3.183006</td>\n",
       "      <td>600.610239</td>\n",
       "      <td>KLAX</td>\n",
       "      <td>KSMF</td>\n",
       "    </tr>\n",
       "    <tr>\n",
       "      <th>8</th>\n",
       "      <td>Oakland</td>\n",
       "      <td>San Francisco</td>\n",
       "      <td>0.121682</td>\n",
       "      <td>0.153999</td>\n",
       "      <td>17.700536</td>\n",
       "      <td>KOAK</td>\n",
       "      <td>KSFO</td>\n",
       "    </tr>\n",
       "    <tr>\n",
       "      <th>9</th>\n",
       "      <td>Oakland</td>\n",
       "      <td>Oakland</td>\n",
       "      <td>0.120743</td>\n",
       "      <td>0.000000</td>\n",
       "      <td>0.000000</td>\n",
       "      <td>KOAK</td>\n",
       "      <td>KOAK</td>\n",
       "    </tr>\n",
       "  </tbody>\n",
       "</table>\n",
       "</div>"
      ],
      "text/plain": [
       "                      city 1                     city 2      corr  diff_lon  \\\n",
       "0              San Francisco                 Sacramento  0.141351  0.783997   \n",
       "1                    Oakland                 Sacramento  0.132286  0.629997   \n",
       "2                  San Diego                Los Angeles  0.132159  1.217995   \n",
       "3  Seattle / Tacoma (SeaTac)  Seattle / Tacoma (SeaTac)  0.129511  0.000000   \n",
       "4                Los Angeles                Los Angeles  0.128430  0.000000   \n",
       "5                  Santa Ana                  San Diego  0.124222  0.677994   \n",
       "6                  Santa Ana                Los Angeles  0.123073  0.540001   \n",
       "7                Los Angeles                 Sacramento  0.122063  3.183006   \n",
       "8                    Oakland              San Francisco  0.121682  0.153999   \n",
       "9                    Oakland                    Oakland  0.120743  0.000000   \n",
       "\n",
       "     distance icao 1 icao 2  \n",
       "0  137.971679   KSFO   KSMF  \n",
       "1  121.536728   KOAK   KSMF  \n",
       "2  175.756439   KSAN   KLAX  \n",
       "3    0.000000   KSEA   KSEA  \n",
       "4    0.000000   KLAX   KLAX  \n",
       "5  122.320182   KSNA   KSAN  \n",
       "6   58.063549   KSNA   KLAX  \n",
       "7  600.610239   KLAX   KSMF  \n",
       "8   17.700536   KOAK   KSFO  \n",
       "9    0.000000   KOAK   KOAK  "
      ]
     },
     "execution_count": 82,
     "metadata": {},
     "output_type": "execute_result"
    }
   ],
   "source": [
    "# most correlated cities in precipitation variation\n",
    "prec_3_df "
   ]
  },
  {
   "cell_type": "code",
   "execution_count": 85,
   "metadata": {
    "collapsed": false
   },
   "outputs": [
    {
     "data": {
      "text/plain": [
       "<matplotlib.text.Text at 0x118bcbd30>"
      ]
     },
     "execution_count": 85,
     "metadata": {},
     "output_type": "execute_result"
    },
    {
     "data": {
      "image/png": "[encoded data removed]",
      "text/plain": [
       "<matplotlib.figure.Figure at 0x117f15128>"
      ]
     },
     "metadata": {},
     "output_type": "display_data"
    }
   ],
   "source": [
    "fig3, [[ax1, ax2], [ax3, ax4]]  = plt.subplots(2,2, figsize=[12,10])\n",
    "\n",
    "ax1.scatter(temp_3_df['distance'], temp_3_df['corr'], s=50)\n",
    "ax1.set_title('temp corr with 3 day diff')\n",
    "ax1.set_ylabel('corr')\n",
    "ax1.set_xlabel('distance')\n",
    "\n",
    "ax2.scatter(prec_3_df['distance'], prec_3_df['corr'], s=50)\n",
    "ax2.set_title('precipitation corr with 3 day diff')\n",
    "ax2.set_ylabel('corr')\n",
    "ax2.set_xlabel('distance')\n",
    "\n",
    "ax3.scatter(temp_3_df['diff_lon'], temp_3_df['corr'], s=50)\n",
    "ax3.set_ylabel('corr')\n",
    "ax3.set_xlabel('longitude difference')\n",
    "\n",
    "ax4.scatter(prec_3_df['diff_lon'], prec_3_df['corr'], s=50)\n",
    "ax4.set_ylabel('corr')\n",
    "ax4.set_xlabel('longitude difference')"
   ]
  },
  {
   "cell_type": "markdown",
   "metadata": {},
   "source": [
    "### 7 day correlation"
   ]
  },
  {
   "cell_type": "code",
   "execution_count": 86,
   "metadata": {
    "collapsed": false
   },
   "outputs": [
    {
     "data": {
      "text/html": [
       "<div>\n",
       "<table border=\"1\" class=\"dataframe\">\n",
       "  <thead>\n",
       "    <tr style=\"text-align: right;\">\n",
       "      <th></th>\n",
       "      <th>city 1</th>\n",
       "      <th>city 2</th>\n",
       "      <th>corr</th>\n",
       "      <th>diff_lon</th>\n",
       "      <th>distance</th>\n",
       "      <th>icao 1</th>\n",
       "      <th>icao 2</th>\n",
       "    </tr>\n",
       "  </thead>\n",
       "  <tbody>\n",
       "    <tr>\n",
       "      <th>0</th>\n",
       "      <td>Detroit / Romulus</td>\n",
       "      <td>Salt Lake City</td>\n",
       "      <td>0.056374</td>\n",
       "      <td>28.624596</td>\n",
       "      <td>2378.638011</td>\n",
       "      <td>KDTW</td>\n",
       "      <td>KSLC</td>\n",
       "    </tr>\n",
       "    <tr>\n",
       "      <th>1</th>\n",
       "      <td>Washington D.C. / Arlington County</td>\n",
       "      <td>Raleigh</td>\n",
       "      <td>0.054850</td>\n",
       "      <td>1.749802</td>\n",
       "      <td>365.208288</td>\n",
       "      <td>KDCA</td>\n",
       "      <td>KRDU</td>\n",
       "    </tr>\n",
       "    <tr>\n",
       "      <th>2</th>\n",
       "      <td>Raleigh</td>\n",
       "      <td>Washington D.C. / Arlington County</td>\n",
       "      <td>0.054714</td>\n",
       "      <td>1.749802</td>\n",
       "      <td>365.208288</td>\n",
       "      <td>KRDU</td>\n",
       "      <td>KDCA</td>\n",
       "    </tr>\n",
       "    <tr>\n",
       "      <th>3</th>\n",
       "      <td>Charlotte</td>\n",
       "      <td>Las Vegas</td>\n",
       "      <td>0.053754</td>\n",
       "      <td>34.208900</td>\n",
       "      <td>3077.553506</td>\n",
       "      <td>KCLT</td>\n",
       "      <td>KLAS</td>\n",
       "    </tr>\n",
       "    <tr>\n",
       "      <th>4</th>\n",
       "      <td>Washington D.C. / Chantilly / Dulles</td>\n",
       "      <td>Raleigh</td>\n",
       "      <td>0.052073</td>\n",
       "      <td>1.331696</td>\n",
       "      <td>360.837054</td>\n",
       "      <td>KIAD</td>\n",
       "      <td>KRDU</td>\n",
       "    </tr>\n",
       "    <tr>\n",
       "      <th>5</th>\n",
       "      <td>Raleigh</td>\n",
       "      <td>Washington D.C. / Chantilly / Dulles</td>\n",
       "      <td>0.049726</td>\n",
       "      <td>1.331696</td>\n",
       "      <td>360.837054</td>\n",
       "      <td>KRDU</td>\n",
       "      <td>KIAD</td>\n",
       "    </tr>\n",
       "    <tr>\n",
       "      <th>6</th>\n",
       "      <td>Raleigh</td>\n",
       "      <td>Raleigh</td>\n",
       "      <td>0.048320</td>\n",
       "      <td>0.000000</td>\n",
       "      <td>0.000000</td>\n",
       "      <td>KRDU</td>\n",
       "      <td>KRDU</td>\n",
       "    </tr>\n",
       "    <tr>\n",
       "      <th>7</th>\n",
       "      <td>Washington D.C. / Arlington County</td>\n",
       "      <td>Washington D.C. / Chantilly / Dulles</td>\n",
       "      <td>0.046446</td>\n",
       "      <td>0.418106</td>\n",
       "      <td>37.624628</td>\n",
       "      <td>KDCA</td>\n",
       "      <td>KIAD</td>\n",
       "    </tr>\n",
       "    <tr>\n",
       "      <th>8</th>\n",
       "      <td>Baltimore / Glen Burnie</td>\n",
       "      <td>Raleigh</td>\n",
       "      <td>0.046431</td>\n",
       "      <td>2.119202</td>\n",
       "      <td>411.668724</td>\n",
       "      <td>KBWI</td>\n",
       "      <td>KRDU</td>\n",
       "    </tr>\n",
       "    <tr>\n",
       "      <th>9</th>\n",
       "      <td>Seattle / Tacoma (SeaTac)</td>\n",
       "      <td>Tampa</td>\n",
       "      <td>0.046167</td>\n",
       "      <td>39.775795</td>\n",
       "      <td>4052.239783</td>\n",
       "      <td>KSEA</td>\n",
       "      <td>KTPA</td>\n",
       "    </tr>\n",
       "  </tbody>\n",
       "</table>\n",
       "</div>"
      ],
      "text/plain": [
       "                                 city 1                                city 2  \\\n",
       "0                     Detroit / Romulus                        Salt Lake City   \n",
       "1    Washington D.C. / Arlington County                               Raleigh   \n",
       "2                               Raleigh    Washington D.C. / Arlington County   \n",
       "3                             Charlotte                             Las Vegas   \n",
       "4  Washington D.C. / Chantilly / Dulles                               Raleigh   \n",
       "5                               Raleigh  Washington D.C. / Chantilly / Dulles   \n",
       "6                               Raleigh                               Raleigh   \n",
       "7    Washington D.C. / Arlington County  Washington D.C. / Chantilly / Dulles   \n",
       "8               Baltimore / Glen Burnie                               Raleigh   \n",
       "9             Seattle / Tacoma (SeaTac)                                 Tampa   \n",
       "\n",
       "       corr   diff_lon     distance icao 1 icao 2  \n",
       "0  0.056374  28.624596  2378.638011   KDTW   KSLC  \n",
       "1  0.054850   1.749802   365.208288   KDCA   KRDU  \n",
       "2  0.054714   1.749802   365.208288   KRDU   KDCA  \n",
       "3  0.053754  34.208900  3077.553506   KCLT   KLAS  \n",
       "4  0.052073   1.331696   360.837054   KIAD   KRDU  \n",
       "5  0.049726   1.331696   360.837054   KRDU   KIAD  \n",
       "6  0.048320   0.000000     0.000000   KRDU   KRDU  \n",
       "7  0.046446   0.418106    37.624628   KDCA   KIAD  \n",
       "8  0.046431   2.119202   411.668724   KBWI   KRDU  \n",
       "9  0.046167  39.775795  4052.239783   KSEA   KTPA  "
      ]
     },
     "execution_count": 86,
     "metadata": {},
     "output_type": "execute_result"
    }
   ],
   "source": [
    "temp_7_df = get_ntop_corr(temp_corr_7)\n",
    "prec_7_df = get_ntop_corr(prec_corr_7)\n",
    "\n",
    "# most correlated cities in temperature variation\n",
    "temp_7_df "
   ]
  },
  {
   "cell_type": "code",
   "execution_count": 87,
   "metadata": {
    "collapsed": false
   },
   "outputs": [
    {
     "data": {
      "text/html": [
       "<div>\n",
       "<table border=\"1\" class=\"dataframe\">\n",
       "  <thead>\n",
       "    <tr style=\"text-align: right;\">\n",
       "      <th></th>\n",
       "      <th>city 1</th>\n",
       "      <th>city 2</th>\n",
       "      <th>corr</th>\n",
       "      <th>diff_lon</th>\n",
       "      <th>distance</th>\n",
       "      <th>icao 1</th>\n",
       "      <th>icao 2</th>\n",
       "    </tr>\n",
       "  </thead>\n",
       "  <tbody>\n",
       "    <tr>\n",
       "      <th>0</th>\n",
       "      <td>Austin</td>\n",
       "      <td>Denver</td>\n",
       "      <td>0.167847</td>\n",
       "      <td>7.003098</td>\n",
       "      <td>1249.214854</td>\n",
       "      <td>KAUS</td>\n",
       "      <td>KDEN</td>\n",
       "    </tr>\n",
       "    <tr>\n",
       "      <th>1</th>\n",
       "      <td>Austin</td>\n",
       "      <td>Indianapolis</td>\n",
       "      <td>0.143231</td>\n",
       "      <td>11.375496</td>\n",
       "      <td>1479.895768</td>\n",
       "      <td>KAUS</td>\n",
       "      <td>KIND</td>\n",
       "    </tr>\n",
       "    <tr>\n",
       "      <th>2</th>\n",
       "      <td>Austin</td>\n",
       "      <td>Dallas</td>\n",
       "      <td>0.135248</td>\n",
       "      <td>0.818100</td>\n",
       "      <td>305.070979</td>\n",
       "      <td>KAUS</td>\n",
       "      <td>KDAL</td>\n",
       "    </tr>\n",
       "    <tr>\n",
       "      <th>3</th>\n",
       "      <td>Portland</td>\n",
       "      <td>San Antonio</td>\n",
       "      <td>0.101156</td>\n",
       "      <td>24.128197</td>\n",
       "      <td>2758.141163</td>\n",
       "      <td>KPDX</td>\n",
       "      <td>KSAT</td>\n",
       "    </tr>\n",
       "    <tr>\n",
       "      <th>4</th>\n",
       "      <td>Austin</td>\n",
       "      <td>Dallas-Fort Worth</td>\n",
       "      <td>0.100020</td>\n",
       "      <td>0.631897</td>\n",
       "      <td>306.484447</td>\n",
       "      <td>KAUS</td>\n",
       "      <td>KDFW</td>\n",
       "    </tr>\n",
       "    <tr>\n",
       "      <th>5</th>\n",
       "      <td>Phoenix</td>\n",
       "      <td>San Juan / Carolina</td>\n",
       "      <td>0.099591</td>\n",
       "      <td>46.010201</td>\n",
       "      <td>4850.129940</td>\n",
       "      <td>KPHX</td>\n",
       "      <td>TJSJ</td>\n",
       "    </tr>\n",
       "    <tr>\n",
       "      <th>6</th>\n",
       "      <td>Cleveland</td>\n",
       "      <td>Covington</td>\n",
       "      <td>0.098974</td>\n",
       "      <td>2.818001</td>\n",
       "      <td>355.403899</td>\n",
       "      <td>KCLE</td>\n",
       "      <td>KCVG</td>\n",
       "    </tr>\n",
       "    <tr>\n",
       "      <th>7</th>\n",
       "      <td>Portland</td>\n",
       "      <td>Covington</td>\n",
       "      <td>0.098891</td>\n",
       "      <td>37.930199</td>\n",
       "      <td>3171.756984</td>\n",
       "      <td>KPDX</td>\n",
       "      <td>KCVG</td>\n",
       "    </tr>\n",
       "    <tr>\n",
       "      <th>8</th>\n",
       "      <td>Oakland</td>\n",
       "      <td>San Diego</td>\n",
       "      <td>0.095485</td>\n",
       "      <td>5.030998</td>\n",
       "      <td>718.584542</td>\n",
       "      <td>KOAK</td>\n",
       "      <td>KSAN</td>\n",
       "    </tr>\n",
       "    <tr>\n",
       "      <th>9</th>\n",
       "      <td>San Francisco</td>\n",
       "      <td>San Diego</td>\n",
       "      <td>0.093290</td>\n",
       "      <td>5.184998</td>\n",
       "      <td>719.113447</td>\n",
       "      <td>KSFO</td>\n",
       "      <td>KSAN</td>\n",
       "    </tr>\n",
       "  </tbody>\n",
       "</table>\n",
       "</div>"
      ],
      "text/plain": [
       "          city 1               city 2      corr   diff_lon     distance  \\\n",
       "0         Austin               Denver  0.167847   7.003098  1249.214854   \n",
       "1         Austin         Indianapolis  0.143231  11.375496  1479.895768   \n",
       "2         Austin               Dallas  0.135248   0.818100   305.070979   \n",
       "3       Portland          San Antonio  0.101156  24.128197  2758.141163   \n",
       "4         Austin    Dallas-Fort Worth  0.100020   0.631897   306.484447   \n",
       "5        Phoenix  San Juan / Carolina  0.099591  46.010201  4850.129940   \n",
       "6      Cleveland            Covington  0.098974   2.818001   355.403899   \n",
       "7       Portland            Covington  0.098891  37.930199  3171.756984   \n",
       "8        Oakland            San Diego  0.095485   5.030998   718.584542   \n",
       "9  San Francisco            San Diego  0.093290   5.184998   719.113447   \n",
       "\n",
       "  icao 1 icao 2  \n",
       "0   KAUS   KDEN  \n",
       "1   KAUS   KIND  \n",
       "2   KAUS   KDAL  \n",
       "3   KPDX   KSAT  \n",
       "4   KAUS   KDFW  \n",
       "5   KPHX   TJSJ  \n",
       "6   KCLE   KCVG  \n",
       "7   KPDX   KCVG  \n",
       "8   KOAK   KSAN  \n",
       "9   KSFO   KSAN  "
      ]
     },
     "execution_count": 87,
     "metadata": {},
     "output_type": "execute_result"
    }
   ],
   "source": [
    "# most correlated cities in precipitation variation\n",
    "prec_7_df "
   ]
  },
  {
   "cell_type": "code",
   "execution_count": 88,
   "metadata": {
    "collapsed": false
   },
   "outputs": [
    {
     "data": {
      "text/plain": [
       "<matplotlib.text.Text at 0x118f40f60>"
      ]
     },
     "execution_count": 88,
     "metadata": {},
     "output_type": "execute_result"
    },
    {
     "data": {
      "image/png": "[encoded data removed]",
      "text/plain": [
       "<matplotlib.figure.Figure at 0x118bd12b0>"
      ]
     },
     "metadata": {},
     "output_type": "display_data"
    }
   ],
   "source": [
    "fig7, [[ax1, ax2], [ax3, ax4]]  = plt.subplots(2,2, figsize=[12,10])\n",
    "\n",
    "ax1.scatter(temp_7_df['distance'], temp_7_df['corr'], s=50)\n",
    "ax1.set_title('temp corr with 7 day diff')\n",
    "ax1.set_ylabel('corr')\n",
    "ax1.set_xlabel('distance')\n",
    "ax2.scatter(prec_7_df['distance'], prec_7_df['corr'], s=50)\n",
    "\n",
    "ax2.set_title('precipitation corr with 7 day diff')\n",
    "ax2.set_ylabel('corr')\n",
    "ax2.set_xlabel('distance')\n",
    "\n",
    "ax3.scatter(temp_7_df['diff_lon'], temp_7_df['corr'], s=50)\n",
    "ax3.set_ylabel('corr')\n",
    "ax3.set_xlabel('longitude difference')\n",
    "\n",
    "ax4.scatter(prec_7_df['diff_lon'], prec_7_df['corr'], s=50)\n",
    "ax4.set_ylabel('corr')\n",
    "ax4.set_xlabel('longitude difference')"
   ]
  },
  {
   "cell_type": "markdown",
   "metadata": {
    "collapsed": true
   },
   "source": [
    "### Note\n",
    "- I was a bit sloppy in selecting the top 10 most correlated pairs of cities that one pair (Raleigh, Raleigh) sneaks in ... but it should not affect conclusions\n",
    "\n",
    "Trends (obvious ...)\n",
    "- Correlation evidently decreases when time dilation increases\n",
    "- temperature variation is more correlated than precipitation variation. \n",
    "\n",
    "Other description\n",
    "- correlation in temperature variantion is less spatially constraint than correlation  in precipitation (not change in precipitation)\n",
    "- for 1 day and 7 day time dilation, the temperature correlation is relative high when locations are close (<1000km apart). But for 3 day dilation, temperature correlation peaks at ~2000km. \n",
    "- In contrast, precipitation correlation peaks at ~200km distance for 3 day dilation, while evidently larger distance for 1 and 7 day dilation. "
   ]
  }
 ],
 "metadata": {
  "kernelspec": {
   "display_name": "Python 3",
   "language": "python",
   "name": "python3"
  },
  "language_info": {
   "codemirror_mode": {
    "name": "ipython",
    "version": 3
   },
   "file_extension": ".py",
   "mimetype": "text/x-python",
   "name": "python",
   "nbconvert_exporter": "python",
   "pygments_lexer": "ipython3",
   "version": "3.5.1"
  },
  "widgets": {
   "state": {},
   "version": "1.1.2"
  }
 },
 "nbformat": 4,
 "nbformat_minor": 0
}
