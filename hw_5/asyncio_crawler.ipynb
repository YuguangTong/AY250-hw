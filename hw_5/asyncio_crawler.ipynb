{
 "cells": [
  {
   "cell_type": "markdown",
   "metadata": {},
   "source": [
    "## Use asynchronous IO to speed up crawling\n",
    "- Obviously the task is IO bound\n",
    "- use builtin asyncio and the popular aiohttp "
   ]
  },
  {
   "cell_type": "code",
   "execution_count": 6,
   "metadata": {
    "collapsed": false
   },
   "outputs": [],
   "source": [
    "import aiohttp, asyncio, async_timeout\n",
    "import pandas as pd\n",
    "from util import AIO_get_data_from_soup"
   ]
  },
  {
   "cell_type": "code",
   "execution_count": 10,
   "metadata": {
    "collapsed": false
   },
   "outputs": [],
   "source": [
    "def wu_url(date, icao):\n",
    "    \"\"\"\n",
    "    construct a wunderground url given date and icao\n",
    "    \"\"\"\n",
    "    url = \"https://www.wunderground.com/history/airport/\" + \\\n",
    "        \"{icao}/{year}/{month}/{day}/DailyHistory.html\".format(\n",
    "            icao=icao, year=date.year,month=date.month,day=date.day)\n",
    "    return url"
   ]
  },
  {
   "cell_type": "code",
   "execution_count": null,
   "metadata": {
    "collapsed": true
   },
   "outputs": [],
   "source": [
    "async def fetch(session, url):\n",
    "    with async_timeout.timeout(10):\n",
    "        async with session.get(url) as response:\n",
    "            return await response.text()\n",
    "\n",
    "async def main(loop, time_range):\n",
    "    async with aiohttp.ClientSession(loop=loop) as session:\n",
    "        html = await fetch(session, 'http://python.org')\n",
    "        print(html)\n",
    "\n",
    "loop = asyncio.get_event_loop()\n",
    "loop.run_until_complete(main(loop))"
   ]
  }
 ],
 "metadata": {
  "kernelspec": {
   "display_name": "Python 3",
   "language": "python",
   "name": "python3"
  },
  "language_info": {
   "codemirror_mode": {
    "name": "ipython",
    "version": 3
   },
   "file_extension": ".py",
   "mimetype": "text/x-python",
   "name": "python",
   "nbconvert_exporter": "python",
   "pygments_lexer": "ipython3",
   "version": "3.5.1"
  },
  "widgets": {
   "state": {},
   "version": "1.1.2"
  }
 },
 "nbformat": 4,
 "nbformat_minor": 0
}
